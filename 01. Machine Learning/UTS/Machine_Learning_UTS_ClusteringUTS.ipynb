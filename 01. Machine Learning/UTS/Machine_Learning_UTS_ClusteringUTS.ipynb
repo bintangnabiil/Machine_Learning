{
  "nbformat": 4,
  "nbformat_minor": 0,
  "metadata": {
    "colab": {
      "provenance": [],
      "mount_file_id": "1UHC0MRg1e_EUgoM4NGqmEHYZz6M_ziOk",
      "authorship_tag": "ABX9TyO5Hw2inNBbInFs4lOs5p66",
      "include_colab_link": true
    },
    "kernelspec": {
      "name": "python3",
      "display_name": "Python 3"
    },
    "language_info": {
      "name": "python"
    }
  },
  "cells": [
    {
      "cell_type": "markdown",
      "metadata": {
        "id": "view-in-github",
        "colab_type": "text"
      },
      "source": [
        "<a href=\"https://colab.research.google.com/github/bintangnabiil/Machine_Learning/blob/main/Machine_Learning_UTS_ClusteringUTS.ipynb\" target=\"_parent\"><img src=\"https://colab.research.google.com/assets/colab-badge.svg\" alt=\"Open In Colab\"/></a>"
      ]
    },
    {
      "cell_type": "markdown",
      "source": [
        "#1. a) Pengumuplan dan Pembersihan Data"
      ],
      "metadata": {
        "id": "nTG8oFRJW1-o"
      }
    },
    {
      "cell_type": "code",
      "execution_count": 1,
      "metadata": {
        "colab": {
          "base_uri": "https://localhost:8080/"
        },
        "id": "r9yPyQefWnD1",
        "outputId": "790888a9-8006-404a-dcf8-c9e737985ff6"
      },
      "outputs": [
        {
          "output_type": "stream",
          "name": "stdout",
          "text": [
            "5 baris pertama data:\n",
            "  InvoiceNo StockCode                          Description  Quantity  \\\n",
            "0    536365    85123A   WHITE HANGING HEART T-LIGHT HOLDER         6   \n",
            "1    536365     71053                  WHITE METAL LANTERN         6   \n",
            "2    536365    84406B       CREAM CUPID HEARTS COAT HANGER         8   \n",
            "3    536365    84029G  KNITTED UNION FLAG HOT WATER BOTTLE         6   \n",
            "4    536365    84029E       RED WOOLLY HOTTIE WHITE HEART.         6   \n",
            "\n",
            "      InvoiceDate  UnitPrice  CustomerID         Country  \n",
            "0  12/1/2010 8:26       2.55     17850.0  United Kingdom  \n",
            "1  12/1/2010 8:26       3.39     17850.0  United Kingdom  \n",
            "2  12/1/2010 8:26       2.75     17850.0  United Kingdom  \n",
            "3  12/1/2010 8:26       3.39     17850.0  United Kingdom  \n",
            "4  12/1/2010 8:26       3.39     17850.0  United Kingdom  \n",
            "\n",
            "Info data:\n",
            "<class 'pandas.core.frame.DataFrame'>\n",
            "RangeIndex: 541909 entries, 0 to 541908\n",
            "Data columns (total 8 columns):\n",
            " #   Column       Non-Null Count   Dtype  \n",
            "---  ------       --------------   -----  \n",
            " 0   InvoiceNo    541909 non-null  object \n",
            " 1   StockCode    541909 non-null  object \n",
            " 2   Description  540455 non-null  object \n",
            " 3   Quantity     541909 non-null  int64  \n",
            " 4   InvoiceDate  541909 non-null  object \n",
            " 5   UnitPrice    541909 non-null  float64\n",
            " 6   CustomerID   406829 non-null  float64\n",
            " 7   Country      541909 non-null  object \n",
            "dtypes: float64(2), int64(1), object(5)\n",
            "memory usage: 33.1+ MB\n",
            "None\n",
            "\n",
            "Deskripsi statistik:\n",
            "            Quantity      UnitPrice     CustomerID\n",
            "count  541909.000000  541909.000000  406829.000000\n",
            "mean        9.552250       4.611114   15287.690570\n",
            "std       218.081158      96.759853    1713.600303\n",
            "min    -80995.000000  -11062.060000   12346.000000\n",
            "25%         1.000000       1.250000   13953.000000\n",
            "50%         3.000000       2.080000   15152.000000\n",
            "75%        10.000000       4.130000   16791.000000\n",
            "max     80995.000000   38970.000000   18287.000000\n",
            "\n",
            "Missing values per kolom:\n",
            "InvoiceNo           0\n",
            "StockCode           0\n",
            "Description      1454\n",
            "Quantity            0\n",
            "InvoiceDate         0\n",
            "UnitPrice           0\n",
            "CustomerID     135080\n",
            "Country             0\n",
            "dtype: int64\n",
            "\n",
            "Jumlah baris duplikat: 5268\n",
            "\n",
            "Shape awal: (541909, 8)\n",
            "Shape setelah dibersihkan: (401604, 8)\n"
          ]
        }
      ],
      "source": [
        "import pandas as pd\n",
        "\n",
        "# Upload file manual ke Google Colab lalu jalankan ini\n",
        "# Misalnya file bernama 'UTSClustering.csv'\n",
        "df = pd.read_csv('UTSClustering.csv', encoding='cp1252')\n",
        "\n",
        "# Menampilkan 5 baris pertama\n",
        "print(\"5 baris pertama data:\")\n",
        "print(df.head())\n",
        "\n",
        "# Menampilkan info ringkas (cek tipe data & non-null)\n",
        "print(\"\\nInfo data:\")\n",
        "print(df.info())\n",
        "\n",
        "# Cek deskripsi statistik (numerik)\n",
        "print(\"\\nDeskripsi statistik:\")\n",
        "print(df.describe())\n",
        "\n",
        "# Cek jumlah missing values per kolom\n",
        "print(\"\\nMissing values per kolom:\")\n",
        "print(df.isnull().sum())\n",
        "\n",
        "# Cek jumlah duplicate rows\n",
        "duplicates = df.duplicated().sum()\n",
        "print(f\"\\nJumlah baris duplikat: {duplicates}\")\n",
        "\n",
        "# Jika ada missing values, kita bisa drop atau impute (contoh: drop)\n",
        "df_clean = df.dropna()\n",
        "\n",
        "# Jika ada duplikat, kita drop duplikat (contoh)\n",
        "df_clean = df_clean.drop_duplicates()\n",
        "\n",
        "# Tampilkan shape awal dan setelah dibersihkan\n",
        "print(f\"\\nShape awal: {df.shape}\")\n",
        "print(f\"Shape setelah dibersihkan: {df_clean.shape}\")\n",
        "\n",
        "# Simpan versi clean untuk proses selanjutnya\n",
        "df_clean.to_csv('/content/UTSClustering_clean.csv', index=False)"
      ]
    },
    {
      "cell_type": "markdown",
      "source": [
        "##b) Feature Selection"
      ],
      "metadata": {
        "id": "TX8LOg3nXqOA"
      }
    },
    {
      "cell_type": "code",
      "source": [
        "print(df_clean.columns)\n",
        "print(df_clean.head())"
      ],
      "metadata": {
        "colab": {
          "base_uri": "https://localhost:8080/"
        },
        "id": "bIvCfU_WaYuM",
        "outputId": "6736b71f-4428-4c7d-d733-98b7743f6188"
      },
      "execution_count": 2,
      "outputs": [
        {
          "output_type": "stream",
          "name": "stdout",
          "text": [
            "Index(['InvoiceNo', 'StockCode', 'Description', 'Quantity', 'InvoiceDate',\n",
            "       'UnitPrice', 'CustomerID', 'Country'],\n",
            "      dtype='object')\n",
            "  InvoiceNo StockCode                          Description  Quantity  \\\n",
            "0    536365    85123A   WHITE HANGING HEART T-LIGHT HOLDER         6   \n",
            "1    536365     71053                  WHITE METAL LANTERN         6   \n",
            "2    536365    84406B       CREAM CUPID HEARTS COAT HANGER         8   \n",
            "3    536365    84029G  KNITTED UNION FLAG HOT WATER BOTTLE         6   \n",
            "4    536365    84029E       RED WOOLLY HOTTIE WHITE HEART.         6   \n",
            "\n",
            "      InvoiceDate  UnitPrice  CustomerID         Country  \n",
            "0  12/1/2010 8:26       2.55     17850.0  United Kingdom  \n",
            "1  12/1/2010 8:26       3.39     17850.0  United Kingdom  \n",
            "2  12/1/2010 8:26       2.75     17850.0  United Kingdom  \n",
            "3  12/1/2010 8:26       3.39     17850.0  United Kingdom  \n",
            "4  12/1/2010 8:26       3.39     17850.0  United Kingdom  \n"
          ]
        }
      ]
    },
    {
      "cell_type": "code",
      "source": [
        "from sklearn.feature_selection import VarianceThreshold\n",
        "from sklearn.preprocessing import OneHotEncoder\n",
        "import pandas as pd\n",
        "import numpy as np\n",
        "\n",
        "# 1️⃣ Pilih fitur yang relevan\n",
        "df_feat = df_clean.copy()\n",
        "\n",
        "# Drop kolom ID dan yang tidak relevan\n",
        "drop_cols = ['InvoiceNo', 'StockCode', 'Description', 'InvoiceDate', 'CustomerID']\n",
        "df_feat = df_feat.drop(columns=drop_cols)\n",
        "\n",
        "# 2️⃣ Tangani kolom kategori: One-Hot Encoding untuk 'Country'\n",
        "df_feat = pd.get_dummies(df_feat, columns=['Country'], drop_first=True)\n",
        "\n",
        "# 3️⃣ Cek constant / quasi-constant features\n",
        "print(\"\\n=== Constant/Quasi-Constant Check ===\")\n",
        "selector = VarianceThreshold(threshold=0.01)  # <1% variance dianggap quasi-constant\n",
        "selector.fit(df_feat)\n",
        "mask = selector.get_support()\n",
        "\n",
        "quasi_constant_cols = df_feat.columns[~mask]\n",
        "print(f\"Quasi-Constant columns: {list(quasi_constant_cols)}\")\n",
        "\n",
        "# Drop quasi-constant jika ada\n",
        "df_feat = df_feat.loc[:, mask]\n",
        "\n",
        "# 4️⃣ Cek duplicate columns\n",
        "print(\"\\n=== Duplicate Columns Check ===\")\n",
        "duplicates = df_feat.T[df_feat.T.duplicated()].index.tolist()\n",
        "print(f\"Duplicate columns: {duplicates}\")\n",
        "\n",
        "# Drop duplicate jika ada\n",
        "df_feat = df_feat.drop(columns=duplicates)\n",
        "\n",
        "# 5️⃣ Cek korelasi antar fitur numerik\n",
        "print(\"\\n=== Correlation Matrix ===\")\n",
        "corr_matrix = df_feat.corr().abs()\n",
        "\n",
        "# Ambil fitur yang sangat berkorelasi (> 0.90)\n",
        "upper = corr_matrix.where(np.triu(np.ones(corr_matrix.shape), k=1).astype(bool))\n",
        "high_corr = [column for column in upper.columns if any(upper[column] > 0.90)]\n",
        "print(f\"Highly correlated columns (>0.90): {high_corr}\")\n",
        "\n",
        "# Drop kolom yang sangat berkorelasi jika ada\n",
        "df_feat = df_feat.drop(columns=high_corr)\n",
        "\n",
        "print(\"\\n=== Final Feature Set ===\")\n",
        "print(df_feat.columns)"
      ],
      "metadata": {
        "colab": {
          "base_uri": "https://localhost:8080/"
        },
        "id": "eH4qjRLea7ef",
        "outputId": "bd3c5cc2-ab00-41d2-80be-92d6a2d185fe"
      },
      "execution_count": 3,
      "outputs": [
        {
          "output_type": "stream",
          "name": "stdout",
          "text": [
            "\n",
            "=== Constant/Quasi-Constant Check ===\n",
            "Quasi-Constant columns: ['Country_Austria', 'Country_Bahrain', 'Country_Belgium', 'Country_Brazil', 'Country_Canada', 'Country_Channel Islands', 'Country_Cyprus', 'Country_Czech Republic', 'Country_Denmark', 'Country_European Community', 'Country_Finland', 'Country_Greece', 'Country_Iceland', 'Country_Israel', 'Country_Italy', 'Country_Japan', 'Country_Lebanon', 'Country_Lithuania', 'Country_Malta', 'Country_Netherlands', 'Country_Norway', 'Country_Poland', 'Country_Portugal', 'Country_RSA', 'Country_Saudi Arabia', 'Country_Singapore', 'Country_Spain', 'Country_Sweden', 'Country_Switzerland', 'Country_USA', 'Country_United Arab Emirates', 'Country_Unspecified']\n",
            "\n",
            "=== Duplicate Columns Check ===\n",
            "Duplicate columns: []\n",
            "\n",
            "=== Correlation Matrix ===\n",
            "Highly correlated columns (>0.90): []\n",
            "\n",
            "=== Final Feature Set ===\n",
            "Index(['Quantity', 'UnitPrice', 'Country_EIRE', 'Country_France',\n",
            "       'Country_Germany', 'Country_United Kingdom'],\n",
            "      dtype='object')\n"
          ]
        }
      ]
    },
    {
      "cell_type": "markdown",
      "source": [
        "##c) Feature Engineering"
      ],
      "metadata": {
        "id": "VxMpKb3Ecwpb"
      }
    },
    {
      "cell_type": "code",
      "source": [
        "from sklearn.preprocessing import StandardScaler, OneHotEncoder\n",
        "\n",
        "# Pilih kolom yang akan dipakai\n",
        "features = df_clean[['Quantity', 'UnitPrice', 'Country']].copy()\n",
        "\n",
        "# --- 1️. Tangani data negatif/null ---\n",
        "# Buang baris dengan Quantity <= 0 atau UnitPrice <= 0 (karena biasanya itu retur/corrupt)\n",
        "features = features[(features['Quantity'] > 0) & (features['UnitPrice'] > 0)]\n",
        "\n",
        "# --- 2. One-Hot Encoding Country ---\n",
        "# Kita bisa pakai OneHotEncoder atau pd.get_dummies\n",
        "features_encoded = pd.get_dummies(features, columns=['Country'], drop_first=True)\n",
        "\n",
        "# --- 3. Scaling ---\n",
        "scaler = StandardScaler()\n",
        "features_scaled = scaler.fit_transform(features_encoded)\n",
        "\n",
        "# --- 4. Buat dataframe hasil scaling (opsional untuk cek) ---\n",
        "features_scaled_df = pd.DataFrame(features_scaled, columns=features_encoded.columns)\n",
        "\n",
        "print(\"\\n=== Feature Engineering selesai ===\")\n",
        "print(features_scaled_df.head())"
      ],
      "metadata": {
        "colab": {
          "base_uri": "https://localhost:8080/"
        },
        "id": "a1IFFZADc_8d",
        "outputId": "d6a95186-2075-478f-f7eb-efcecebf4a88"
      },
      "execution_count": 4,
      "outputs": [
        {
          "output_type": "stream",
          "name": "stdout",
          "text": [
            "\n",
            "=== Feature Engineering selesai ===\n",
            "   Quantity  UnitPrice  Country_Austria  Country_Bahrain  Country_Belgium  \\\n",
            "0 -0.039446  -0.025893        -0.031852         -0.00658        -0.072103   \n",
            "1 -0.039446   0.011873        -0.031852         -0.00658        -0.072103   \n",
            "2 -0.028365  -0.016901        -0.031852         -0.00658        -0.072103   \n",
            "3 -0.039446   0.011873        -0.031852         -0.00658        -0.072103   \n",
            "4 -0.039446   0.011873        -0.031852         -0.00658        -0.072103   \n",
            "\n",
            "   Country_Brazil  Country_Canada  Country_Channel Islands  Country_Cyprus  \\\n",
            "0       -0.009027       -0.019613                -0.043656       -0.039216   \n",
            "1       -0.009027       -0.019613                -0.043656       -0.039216   \n",
            "2       -0.009027       -0.019613                -0.043656       -0.039216   \n",
            "3       -0.009027       -0.019613                -0.043656       -0.039216   \n",
            "4       -0.009027       -0.019613                -0.043656       -0.039216   \n",
            "\n",
            "   Country_Czech Republic  ...  Country_RSA  Country_Saudi Arabia  \\\n",
            "0               -0.007979  ...    -0.012049             -0.004787   \n",
            "1               -0.007979  ...    -0.012049             -0.004787   \n",
            "2               -0.007979  ...    -0.012049             -0.004787   \n",
            "3               -0.007979  ...    -0.012049             -0.004787   \n",
            "4               -0.007979  ...    -0.012049             -0.004787   \n",
            "\n",
            "   Country_Singapore  Country_Spain  Country_Sweden  Country_Switzerland  \\\n",
            "0          -0.023783      -0.079705       -0.033871            -0.068631   \n",
            "1          -0.023783      -0.079705       -0.033871            -0.068631   \n",
            "2          -0.023783      -0.079705       -0.033871            -0.068631   \n",
            "3          -0.023783      -0.079705       -0.033871            -0.068631   \n",
            "4          -0.023783      -0.079705       -0.033871            -0.068631   \n",
            "\n",
            "   Country_USA  Country_United Arab Emirates  Country_United Kingdom  \\\n",
            "0    -0.021355                      -0.01316                0.352899   \n",
            "1    -0.021355                      -0.01316                0.352899   \n",
            "2    -0.021355                      -0.01316                0.352899   \n",
            "3    -0.021355                      -0.01316                0.352899   \n",
            "4    -0.021355                      -0.01316                0.352899   \n",
            "\n",
            "   Country_Unspecified  \n",
            "0            -0.024781  \n",
            "1            -0.024781  \n",
            "2            -0.024781  \n",
            "3            -0.024781  \n",
            "4            -0.024781  \n",
            "\n",
            "[5 rows x 38 columns]\n"
          ]
        }
      ]
    },
    {
      "cell_type": "markdown",
      "source": [
        "##d) Model-model dengan Scikit-learn"
      ],
      "metadata": {
        "id": "M4-W9DtLkJow"
      }
    },
    {
      "cell_type": "code",
      "source": [
        "from sklearn.cluster import KMeans, AgglomerativeClustering, DBSCAN, SpectralClustering\n",
        "from sklearn.mixture import GaussianMixture\n",
        "\n",
        "n_clusters = 3\n",
        "\n",
        "print(\"\\n=== KMeans ===\")\n",
        "kmeans = KMeans(n_clusters=n_clusters, random_state=42)\n",
        "kmeans_labels = kmeans.fit_predict(features_scaled_df)\n",
        "print(\"KMeans selesai ✔️\")\n"
      ],
      "metadata": {
        "colab": {
          "base_uri": "https://localhost:8080/"
        },
        "id": "XAl33pnsfDQg",
        "outputId": "a4e57c9c-f15f-4c39-a47b-844253c785d4"
      },
      "execution_count": 5,
      "outputs": [
        {
          "output_type": "stream",
          "name": "stdout",
          "text": [
            "\n",
            "=== KMeans ===\n",
            "KMeans selesai ✔️\n"
          ]
        }
      ]
    },
    {
      "cell_type": "code",
      "source": [
        "print(\"\\n=== Agglomerative Clustering ===\")\n",
        "if len(features_scaled_df) > 2000:\n",
        "    print(f\"Data terlalu besar ({len(features_scaled_df)} baris), ambil sampel 2000 baris agar tidak crash.\")\n",
        "    sample_data = features_scaled_df.sample(n=2000, random_state=42)\n",
        "else:\n",
        "    sample_data = features_scaled_df\n",
        "\n",
        "agglo = AgglomerativeClustering(n_clusters=n_clusters)\n",
        "agglo_labels = agglo.fit_predict(sample_data)\n",
        "print(\"Agglomerative Clustering selesai ✔️ (pada sampel)\")"
      ],
      "metadata": {
        "colab": {
          "base_uri": "https://localhost:8080/"
        },
        "id": "DkJCEqligzGM",
        "outputId": "7422c14d-b9f0-40e6-f315-d0e9ef05c6cb"
      },
      "execution_count": 6,
      "outputs": [
        {
          "output_type": "stream",
          "name": "stdout",
          "text": [
            "\n",
            "=== Agglomerative Clustering ===\n",
            "Data terlalu besar (392692 baris), ambil sampel 2000 baris agar tidak crash.\n",
            "Agglomerative Clustering selesai ✔️ (pada sampel)\n"
          ]
        }
      ]
    },
    {
      "cell_type": "code",
      "source": [
        "from sklearn.decomposition import PCA\n",
        "from sklearn.cluster import DBSCAN\n",
        "\n",
        "# Ambil sample kecil untuk DBSCAN (misalnya 5000 baris)\n",
        "sample_size = 5000\n",
        "if features_scaled.shape[0] > sample_size:\n",
        "    features_dbscan = features_scaled[:sample_size]\n",
        "else:\n",
        "    features_dbscan = features_scaled\n",
        "\n",
        "# Kurangi dimensi dengan PCA (opsional tapi sangat membantu)\n",
        "pca = PCA(n_components=2, random_state=42)\n",
        "features_dbscan_pca = pca.fit_transform(features_dbscan)\n",
        "\n",
        "# Jalankan DBSCAN\n",
        "dbscan = DBSCAN(eps=0.5, min_samples=5, n_jobs=-1)  # n_jobs=-1 untuk semua core\n",
        "dbscan_labels = dbscan.fit_predict(features_dbscan_pca)\n",
        "\n",
        "print(\"DBSCAN done. Cluster labels:\", np.unique(dbscan_labels))"
      ],
      "metadata": {
        "colab": {
          "base_uri": "https://localhost:8080/"
        },
        "id": "v0UHzU8AoPlf",
        "outputId": "a711e7ff-e281-4e90-a635-fb6c071a9a61"
      },
      "execution_count": 7,
      "outputs": [
        {
          "output_type": "stream",
          "name": "stdout",
          "text": [
            "DBSCAN done. Cluster labels: [0 1 2 3 4]\n"
          ]
        }
      ]
    },
    {
      "cell_type": "code",
      "source": [
        "print(\"\\n=== Gaussian Mixture ===\")\n",
        "gmm = GaussianMixture(n_components=n_clusters, random_state=42)\n",
        "gmm_labels = gmm.fit_predict(features_scaled_df)\n",
        "print(\"Gaussian Mixture selesai ✔️\")"
      ],
      "metadata": {
        "colab": {
          "base_uri": "https://localhost:8080/"
        },
        "id": "qLXu7VPyg0yF",
        "outputId": "16ba9e7b-f0e3-4bc2-b8cd-35fa3a7f1388"
      },
      "execution_count": 8,
      "outputs": [
        {
          "output_type": "stream",
          "name": "stdout",
          "text": [
            "\n",
            "=== Gaussian Mixture ===\n",
            "Gaussian Mixture selesai ✔️\n"
          ]
        }
      ]
    },
    {
      "cell_type": "code",
      "source": [
        "print(\"\\n=== Spectral Clustering ===\")\n",
        "if len(features_scaled_df) > 1500:\n",
        "    print(f\"Data terlalu besar ({len(features_scaled_df)} baris), ambil sampel 1500 baris agar tidak crash.\")\n",
        "    sample_data_spec = features_scaled_df.sample(n=1500, random_state=42)\n",
        "else:\n",
        "    sample_data_spec = features_scaled_df\n",
        "\n",
        "spectral = SpectralClustering(n_clusters=n_clusters, affinity='nearest_neighbors', n_neighbors=5, random_state=42)\n",
        "spectral_labels = spectral.fit_predict(sample_data_spec)\n",
        "print(\"Spectral Clustering selesai ✔️ (pada sampel)\")"
      ],
      "metadata": {
        "colab": {
          "base_uri": "https://localhost:8080/"
        },
        "id": "dxc7S5cmg4Vq",
        "outputId": "d331c938-9498-466b-cb87-26859d7e378d"
      },
      "execution_count": 9,
      "outputs": [
        {
          "output_type": "stream",
          "name": "stdout",
          "text": [
            "\n",
            "=== Spectral Clustering ===\n",
            "Data terlalu besar (392692 baris), ambil sampel 1500 baris agar tidak crash.\n"
          ]
        },
        {
          "output_type": "stream",
          "name": "stderr",
          "text": [
            "/usr/local/lib/python3.11/dist-packages/sklearn/manifold/_spectral_embedding.py:329: UserWarning: Graph is not fully connected, spectral embedding may not work as expected.\n",
            "  warnings.warn(\n"
          ]
        },
        {
          "output_type": "stream",
          "name": "stdout",
          "text": [
            "Spectral Clustering selesai ✔️ (pada sampel)\n"
          ]
        }
      ]
    },
    {
      "cell_type": "markdown",
      "source": [
        "##2. Model Evaluasi"
      ],
      "metadata": {
        "id": "uFCRDlGMu8an"
      }
    },
    {
      "cell_type": "code",
      "source": [
        "import matplotlib.pyplot as plt\n",
        "import seaborn as sns\n",
        "from sklearn.metrics import silhouette_score, davies_bouldin_score, calinski_harabasz_score, silhouette_samples\n",
        "from scipy.cluster.hierarchy import dendrogram, linkage"
      ],
      "metadata": {
        "id": "ye0Xzvnfu-Ye"
      },
      "execution_count": 11,
      "outputs": []
    },
    {
      "cell_type": "markdown",
      "source": [
        "###Evaluasi dan Visualisasi K-Means"
      ],
      "metadata": {
        "id": "fal3Blv1vHN8"
      }
    },
    {
      "cell_type": "code",
      "source": [
        "n_clusters = len(np.unique(kmeans_labels))\n",
        "\n",
        "sil_score = silhouette_score(features_scaled, kmeans_labels)\n",
        "db_score = davies_bouldin_score(features_scaled, kmeans_labels)\n",
        "ch_score = calinski_harabasz_score(features_scaled, kmeans_labels)\n",
        "\n",
        "print(f\"KMeans Silhouette Score: {sil_score:.3f}\")\n",
        "print(f\"KMeans Davies-Bouldin Index: {db_score:.3f}\")\n",
        "print(f\"KMeans Calinski-Harabasz Score: {ch_score:.3f}\")"
      ],
      "metadata": {
        "colab": {
          "base_uri": "https://localhost:8080/"
        },
        "id": "34jn1KwPvAut",
        "outputId": "e55dc1a6-6bc4-4345-87d3-ded5185b7e2c"
      },
      "execution_count": 12,
      "outputs": [
        {
          "output_type": "stream",
          "name": "stdout",
          "text": [
            "KMeans Silhouette Score: 0.748\n",
            "KMeans Davies-Bouldin Index: 0.210\n",
            "KMeans Calinski-Harabasz Score: 12245.515\n"
          ]
        }
      ]
    },
    {
      "cell_type": "code",
      "source": [
        "sample_silhouette_values = silhouette_samples(features_scaled, kmeans_labels)\n",
        "\n",
        "plt.figure(figsize=(8, 5))\n",
        "sns.histplot(sample_silhouette_values, bins=30, kde=True)\n",
        "plt.title(\"Silhouette Plot for KMeans Clustering\")\n",
        "plt.xlabel(\"Silhouette Coefficient Values\")\n",
        "plt.ylabel(\"Frequency\")\n",
        "plt.show()"
      ],
      "metadata": {
        "colab": {
          "base_uri": "https://localhost:8080/",
          "height": 474
        },
        "id": "bxy0lymM43KB",
        "outputId": "825d5406-05db-40a2-c0d7-53c84207bf0b"
      },
      "execution_count": 13,
      "outputs": [
        {
          "output_type": "display_data",
          "data": {
            "text/plain": [
              "<Figure size 800x500 with 1 Axes>"
            ],
            "image/png": "[encoded data removed]"
          },
          "metadata": {}
        }
      ]
    },
    {
      "cell_type": "code",
      "source": [
        "plt.figure(figsize=(8, 6))\n",
        "sns.scatterplot(x=features_scaled[:, 0], y=features_scaled[:, 1], hue=kmeans_labels, palette='tab10', s=50)\n",
        "plt.title(\"Cluster Scatter Plot (KMeans)\")\n",
        "plt.xlabel(\"Feature 1\")\n",
        "plt.ylabel(\"Feature 2\")\n",
        "plt.legend(title=\"Cluster\")\n",
        "plt.show()"
      ],
      "metadata": {
        "colab": {
          "base_uri": "https://localhost:8080/",
          "height": 564
        },
        "id": "4Zw-LLGDCS56",
        "outputId": "58657832-ab90-4150-ab2b-9528f4f9d31e"
      },
      "execution_count": 14,
      "outputs": [
        {
          "output_type": "display_data",
          "data": {
            "text/plain": [
              "<Figure size 800x600 with 1 Axes>"
            ],
            "image/png": "[encoded data removed]"
          },
          "metadata": {}
        }
      ]
    }
  ]
}