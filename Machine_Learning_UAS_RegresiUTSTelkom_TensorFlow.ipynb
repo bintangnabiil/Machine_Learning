{
  "nbformat": 4,
  "nbformat_minor": 0,
  "metadata": {
    "colab": {
      "provenance": [],
      "mount_file_id": "1K4K8MVVdbUCC6VWCY4EeiN0V9VH6991s",
      "authorship_tag": "ABX9TyM/luvoj8TkdRG7i96S8yCK",
      "include_colab_link": true
    },
    "kernelspec": {
      "name": "python3",
      "display_name": "Python 3"
    },
    "language_info": {
      "name": "python"
    }
  },
  "cells": [
    {
      "cell_type": "markdown",
      "metadata": {
        "id": "view-in-github",
        "colab_type": "text"
      },
      "source": [
        "<a href=\"https://colab.research.google.com/github/bintangnabiil/Machine_Learning/blob/main/Machine_Learning_UAS_RegresiUTSTelkom_TensorFlow.ipynb\" target=\"_parent\"><img src=\"https://colab.research.google.com/assets/colab-badge.svg\" alt=\"Open In Colab\"/></a>"
      ]
    },
    {
      "cell_type": "code",
      "execution_count": 7,
      "metadata": {
        "colab": {
          "base_uri": "https://localhost:8080/"
        },
        "id": "QvVgpQjztH_0",
        "outputId": "0188655c-0061-43da-864a-198b55acce6b"
      },
      "outputs": [
        {
          "output_type": "stream",
          "name": "stdout",
          "text": [
            "<class 'pandas.core.frame.DataFrame'>\n",
            "RangeIndex: 515344 entries, 0 to 515343\n",
            "Data columns (total 91 columns):\n",
            " #   Column      Non-Null Count   Dtype  \n",
            "---  ------      --------------   -----  \n",
            " 0   2001        515344 non-null  int64  \n",
            " 1   49.94357    515344 non-null  float64\n",
            " 2   21.47114    515344 non-null  float64\n",
            " 3   73.0775     515344 non-null  float64\n",
            " 4   8.74861     515344 non-null  float64\n",
            " 5   -17.40628   515344 non-null  float64\n",
            " 6   -13.09905   515344 non-null  float64\n",
            " 7   -25.01202   515344 non-null  float64\n",
            " 8   -12.23257   515344 non-null  float64\n",
            " 9   7.83089     515344 non-null  float64\n",
            " 10  -2.46783    515344 non-null  float64\n",
            " 11  3.32136     515344 non-null  float64\n",
            " 12  -2.31521    515344 non-null  float64\n",
            " 13  10.20556    515344 non-null  float64\n",
            " 14  611.10913   515344 non-null  float64\n",
            " 15  951.0896    515344 non-null  float64\n",
            " 16  698.11428   515344 non-null  float64\n",
            " 17  408.98485   515344 non-null  float64\n",
            " 18  383.70912   515344 non-null  float64\n",
            " 19  326.51512   515344 non-null  float64\n",
            " 20  238.11327   515344 non-null  float64\n",
            " 21  251.42414   515344 non-null  float64\n",
            " 22  187.17351   515344 non-null  float64\n",
            " 23  100.42652   515344 non-null  float64\n",
            " 24  179.19498   515344 non-null  float64\n",
            " 25  -8.41558    515344 non-null  float64\n",
            " 26  -317.87038  515344 non-null  float64\n",
            " 27  95.86266    515344 non-null  float64\n",
            " 28  48.10259    515344 non-null  float64\n",
            " 29  -95.66303   515344 non-null  float64\n",
            " 30  -18.06215   515344 non-null  float64\n",
            " 31  1.96984     515344 non-null  float64\n",
            " 32  34.42438    515344 non-null  float64\n",
            " 33  11.7267     515344 non-null  float64\n",
            " 34  1.3679      515344 non-null  float64\n",
            " 35  7.79444     515344 non-null  float64\n",
            " 36  -0.36994    515344 non-null  float64\n",
            " 37  -133.67852  515344 non-null  float64\n",
            " 38  -83.26165   515344 non-null  float64\n",
            " 39  -37.29765   515344 non-null  float64\n",
            " 40  73.04667    515344 non-null  float64\n",
            " 41  -37.36684   515344 non-null  float64\n",
            " 42  -3.13853    515344 non-null  float64\n",
            " 43  -24.21531   515344 non-null  float64\n",
            " 44  -13.23066   515344 non-null  float64\n",
            " 45  15.93809    515344 non-null  float64\n",
            " 46  -18.60478   515344 non-null  float64\n",
            " 47  82.15479    515344 non-null  float64\n",
            " 48  240.5798    515344 non-null  float64\n",
            " 49  -10.29407   515344 non-null  float64\n",
            " 50  31.58431    515344 non-null  float64\n",
            " 51  -25.38187   515344 non-null  float64\n",
            " 52  -3.90772    515344 non-null  float64\n",
            " 53  13.29258    515344 non-null  float64\n",
            " 54  41.5506     515344 non-null  float64\n",
            " 55  -7.26272    515344 non-null  float64\n",
            " 56  -21.00863   515344 non-null  float64\n",
            " 57  105.50848   515344 non-null  float64\n",
            " 58  64.29856    515344 non-null  float64\n",
            " 59  26.08481    515344 non-null  float64\n",
            " 60  -44.5911    515344 non-null  float64\n",
            " 61  -8.30657    515344 non-null  float64\n",
            " 62  7.93706     515344 non-null  float64\n",
            " 63  -10.7366    515344 non-null  float64\n",
            " 64  -95.44766   515344 non-null  float64\n",
            " 65  -82.03307   515344 non-null  float64\n",
            " 66  -35.59194   515344 non-null  float64\n",
            " 67  4.69525     515344 non-null  float64\n",
            " 68  70.95626    515344 non-null  float64\n",
            " 69  28.09139    515344 non-null  float64\n",
            " 70  6.02015     515344 non-null  float64\n",
            " 71  -37.13767   515344 non-null  float64\n",
            " 72  -41.1245    515344 non-null  float64\n",
            " 73  -8.40816    515344 non-null  float64\n",
            " 74  7.19877     515344 non-null  float64\n",
            " 75  -8.60176    515344 non-null  float64\n",
            " 76  -5.90857    515344 non-null  float64\n",
            " 77  -12.32437   515344 non-null  float64\n",
            " 78  14.68734    515344 non-null  float64\n",
            " 79  -54.32125   515344 non-null  float64\n",
            " 80  40.14786    515344 non-null  float64\n",
            " 81  13.0162     515344 non-null  float64\n",
            " 82  -54.40548   515344 non-null  float64\n",
            " 83  58.99367    515344 non-null  float64\n",
            " 84  15.37344    515344 non-null  float64\n",
            " 85  1.11144     515344 non-null  float64\n",
            " 86  -23.08793   515344 non-null  float64\n",
            " 87  68.40795    515344 non-null  float64\n",
            " 88  -1.82223    515344 non-null  float64\n",
            " 89  -27.46348   515344 non-null  float64\n",
            " 90  2.26327     515344 non-null  float64\n",
            "dtypes: float64(90), int64(1)\n",
            "memory usage: 357.8 MB\n",
            "None\n",
            "   2001  49.94357  21.47114   73.0775   8.74861  -17.40628  -13.09905  \\\n",
            "0  2001  48.73215  18.42930  70.32679  12.94636  -10.32437  -24.83777   \n",
            "1  2001  50.95714  31.85602  55.81851  13.41693   -6.57898  -18.54940   \n",
            "2  2001  48.24750  -1.89837  36.29772   2.58776    0.97170  -26.21683   \n",
            "3  2001  50.97020  42.20998  67.09964   8.46791  -15.85279  -16.81409   \n",
            "4  2001  50.54767   0.31568  92.35066  22.38696  -25.51870  -19.04928   \n",
            "\n",
            "   -25.01202  -12.23257   7.83089  ...   13.0162  -54.40548  58.99367  \\\n",
            "0    8.76630   -0.92019  18.76548  ...   5.66812  -19.68073  33.04964   \n",
            "1   -3.27872   -2.35035  16.07017  ...   3.03800   26.05866 -50.92779   \n",
            "2    5.05097  -10.34124   3.55005  ...  34.57337 -171.70734 -16.96705   \n",
            "3  -12.48207   -9.37636  12.63699  ...   9.92661  -55.95724  64.92712   \n",
            "4   20.67345   -5.19943   3.63566  ...   6.59753  -50.69577  26.02574   \n",
            "\n",
            "   15.37344   1.11144  -23.08793   68.40795  -1.82223  -27.46348   2.26327  \n",
            "0  42.87836  -9.90378  -32.22788   70.49388  12.04941   58.43453  26.92061  \n",
            "1  10.93792  -0.07568   43.20130 -115.00698  -0.05859   39.67068  -0.66345  \n",
            "2 -46.67617 -12.51516   82.58061  -72.08993   9.90558  199.62971  18.85382  \n",
            "3 -17.72522  -1.49237   -7.50035   51.76631   7.88713   55.66926  28.74903  \n",
            "4  18.94430  -0.33730    6.09352   35.18381   5.00283  -11.02257   0.02263  \n",
            "\n",
            "[5 rows x 91 columns]\n",
            "                2001       49.94357       21.47114        73.0775  \\\n",
            "count  515344.000000  515344.000000  515344.000000  515344.000000   \n",
            "mean     1998.397077      43.387113       1.289515       8.658222   \n",
            "std        10.931056       6.067557      51.580393      35.268505   \n",
            "min      1922.000000       1.749000    -337.092500    -301.005060   \n",
            "25%      1994.000000      39.954667     -26.059848     -11.462775   \n",
            "50%      2002.000000      44.258490       8.417725      10.476235   \n",
            "75%      2006.000000      47.833875      36.124030      29.764685   \n",
            "max      2011.000000      61.970140     384.065730     322.851430   \n",
            "\n",
            "             8.74861      -17.40628      -13.09905      -25.01202  \\\n",
            "count  515344.000000  515344.000000  515344.000000  515344.000000   \n",
            "mean        1.164110      -6.553580      -9.521968      -2.391046   \n",
            "std        16.322802      22.860803      12.857763      14.571853   \n",
            "min      -154.183580    -181.953370     -81.794290    -188.214000   \n",
            "25%        -8.487507     -20.666455     -18.441005     -10.780360   \n",
            "50%        -0.652855      -6.007770     -11.188355      -2.046625   \n",
            "75%         8.787548       7.741877      -2.388945       6.508587   \n",
            "max       335.771820     262.068870     166.236890     172.402680   \n",
            "\n",
            "           -12.23257        7.83089  ...        13.0162      -54.40548  \\\n",
            "count  515344.000000  515344.000000  ...  515344.000000  515344.000000   \n",
            "mean       -1.793215       3.727868  ...      15.755411     -73.461537   \n",
            "std         7.963822      10.582869  ...      32.099666     175.619058   \n",
            "min       -72.503850    -126.479040  ...    -437.722030   -4402.376440   \n",
            "25%        -6.468390      -2.293670  ...      -1.812658    -139.555737   \n",
            "50%        -1.736415       3.822305  ...       9.171850     -53.089115   \n",
            "75%         2.913455       9.961865  ...      26.274487      13.478793   \n",
            "max       126.741270     146.297950  ...     840.973380    4469.454870   \n",
            "\n",
            "            58.99367       15.37344        1.11144      -23.08793  \\\n",
            "count  515344.000000  515344.000000  515344.000000  515344.000000   \n",
            "mean       41.542388      37.934163       0.315750      17.669292   \n",
            "std       122.228915      95.050718      16.161780     114.428002   \n",
            "min     -1810.689190   -3098.350310    -341.789120   -3168.924570   \n",
            "25%       -20.987115      -4.669655      -6.781598     -31.580617   \n",
            "50%        28.790580      33.623815       0.820830      15.598520   \n",
            "75%        89.661785      77.785810       8.471000      67.795110   \n",
            "max      3210.701700    1734.079690     260.544900    3662.065650   \n",
            "\n",
            "            68.40795       -1.82223      -27.46348        2.26327  \n",
            "count  515344.000000  515344.000000  515344.000000  515344.000000  \n",
            "mean      -26.315520       4.458653      20.035229       1.329104  \n",
            "std       173.977455      13.346567     185.558415      22.088598  \n",
            "min     -4319.992320    -236.039260   -7458.378150    -381.424430  \n",
            "25%      -101.530305      -2.566137     -59.509453      -8.820248  \n",
            "50%       -21.204225       3.117645       7.759910       0.053015  \n",
            "75%        52.389322       9.967742      86.351645       9.679540  \n",
            "max      2833.608950     463.419500    7393.398440     677.899630  \n",
            "\n",
            "[8 rows x 91 columns]\n"
          ]
        }
      ],
      "source": [
        "import pandas as pd\n",
        "\n",
        "df = pd.read_csv('/content/RegresiUTSTelkom.csv')\n",
        "\n",
        "# Cek struktur dataset\n",
        "print(df.info())\n",
        "\n",
        "# Lihat beberapa baris awal\n",
        "print(df.head())\n",
        "\n",
        "# Statistik ringkasan\n",
        "print(df.describe())"
      ]
    },
    {
      "cell_type": "markdown",
      "source": [
        "##1a. Pengumpulan & Pembersihan Data (Pandas)"
      ],
      "metadata": {
        "id": "8aK71xMl0JN-"
      }
    },
    {
      "cell_type": "code",
      "source": [
        "import pandas as pd\n",
        "\n",
        "# Load data\n",
        "df = pd.read_csv('/content/RegresiUTSTelkom.csv')\n",
        "\n",
        "# Rename kolom agar bisa diakses dengan mudah\n",
        "df.columns = [f\"f{i}\" if i != 0 else \"target\" for i in range(len(df.columns))]\n",
        "\n",
        "# Cek missing values\n",
        "print(df.isnull().sum().sum())  # Harusnya 0 karena non-null semua\n",
        "\n",
        "# Cek apakah ada duplikasi\n",
        "print(df.duplicated().sum())\n",
        "\n",
        "# Jika perlu drop duplikasi\n",
        "df = df.drop_duplicates()"
      ],
      "metadata": {
        "colab": {
          "base_uri": "https://localhost:8080/"
        },
        "id": "kpK4ABHa0HYq",
        "outputId": "a0974629-a3e3-427b-9546-0f8c081937d4"
      },
      "execution_count": 8,
      "outputs": [
        {
          "output_type": "stream",
          "name": "stdout",
          "text": [
            "0\n",
            "214\n"
          ]
        }
      ]
    },
    {
      "cell_type": "markdown",
      "source": [
        "##1b. Feature Engineering"
      ],
      "metadata": {
        "id": "nEgh1fnB0eYz"
      }
    },
    {
      "cell_type": "code",
      "source": [
        "from sklearn.model_selection import train_test_split\n",
        "from sklearn.preprocessing import StandardScaler\n",
        "\n",
        "# Pisahkan fitur dan target\n",
        "X = df.drop('target', axis=1)\n",
        "y = df['target']\n",
        "\n",
        "# Normalisasi fitur\n",
        "scaler = StandardScaler()\n",
        "X_scaled = scaler.fit_transform(X)\n",
        "\n",
        "# Split data (80% train, 20% test)\n",
        "X_train, X_test, y_train, y_test = train_test_split(\n",
        "    X_scaled, y, test_size=0.2, random_state=42\n",
        ")\n",
        "\n",
        "# Cek hasil\n",
        "print(\"Train shape:\", X_train.shape, y_train.shape)\n",
        "print(\"Test shape:\", X_test.shape, y_test.shape)"
      ],
      "metadata": {
        "colab": {
          "base_uri": "https://localhost:8080/"
        },
        "id": "hey6U2yJ0gGZ",
        "outputId": "64850469-3930-48a6-a61f-96391798d455"
      },
      "execution_count": 9,
      "outputs": [
        {
          "output_type": "stream",
          "name": "stdout",
          "text": [
            "Train shape: (412104, 90) (412104,)\n",
            "Test shape: (103026, 90) (103026,)\n"
          ]
        }
      ]
    },
    {
      "cell_type": "markdown",
      "source": [
        "##1c. Arsitektur MLP\n"
      ],
      "metadata": {
        "id": "RJ2-CBC102aF"
      }
    },
    {
      "cell_type": "markdown",
      "source": [
        "##A. MLP Regression (Tensorflow)"
      ],
      "metadata": {
        "id": "rv4aUqgM9D9W"
      }
    },
    {
      "cell_type": "markdown",
      "source": [
        "###1. Build Model dan Train\n"
      ],
      "metadata": {
        "id": "ILpxGoAW9Qy0"
      }
    },
    {
      "cell_type": "code",
      "source": [
        "import tensorflow as tf\n",
        "from tensorflow.keras import layers, regularizers, callbacks, optimizers\n",
        "\n",
        "# Bangun model MLP untuk regresi\n",
        "def build_tf_mlp_regressor(input_dim):\n",
        "    model = tf.keras.Sequential([\n",
        "        layers.Input(shape=(input_dim,)),\n",
        "        layers.Dense(128, activation='relu', kernel_regularizer=regularizers.l2(0.001)),\n",
        "        layers.BatchNormalization(),\n",
        "        layers.Dropout(0.3),\n",
        "\n",
        "        layers.Dense(64, activation='relu', kernel_regularizer=regularizers.l2(0.001)),\n",
        "        layers.BatchNormalization(),\n",
        "        layers.Dropout(0.3),\n",
        "\n",
        "        layers.Dense(1)  # Output regresi\n",
        "    ])\n",
        "    return model\n",
        "\n",
        "# Buat model\n",
        "tf_model = build_tf_mlp_regressor(X_train.shape[1])\n",
        "\n",
        "# Optimizer + scheduler\n",
        "optimizer = optimizers.AdamW(learning_rate=1e-3, weight_decay=1e-5)\n",
        "\n",
        "# Compile model\n",
        "tf_model.compile(optimizer=optimizer, loss='mse', metrics=['mae'])\n",
        "\n",
        "# Callback\n",
        "early_stop = callbacks.EarlyStopping(patience=5, restore_best_weights=True)\n",
        "lr_schedule = callbacks.ReduceLROnPlateau(factor=0.5, patience=3, verbose=1)\n",
        "\n",
        "# Train model\n",
        "history = tf_model.fit(\n",
        "    X_train, y_train,\n",
        "    validation_split=0.2,\n",
        "    epochs=50,\n",
        "    batch_size=256,\n",
        "    callbacks=[early_stop, lr_schedule],\n",
        "    verbose=2\n",
        ")"
      ],
      "metadata": {
        "colab": {
          "base_uri": "https://localhost:8080/"
        },
        "id": "vLDx_69O08Yn",
        "outputId": "24c67ea8-bfac-4dfd-dd22-c9bc3d8de411"
      },
      "execution_count": 10,
      "outputs": [
        {
          "output_type": "stream",
          "name": "stdout",
          "text": [
            "Epoch 1/50\n",
            "1288/1288 - 11s - 8ms/step - loss: 3663463.2500 - mae: 1912.4521 - val_loss: 3052491.0000 - val_mae: 1747.0956 - learning_rate: 1.0000e-03\n",
            "Epoch 2/50\n",
            "1288/1288 - 6s - 5ms/step - loss: 2212146.0000 - mae: 1477.1190 - val_loss: 1377312.0000 - val_mae: 1173.5183 - learning_rate: 1.0000e-03\n",
            "Epoch 3/50\n",
            "1288/1288 - 9s - 7ms/step - loss: 769575.2500 - mae: 851.9668 - val_loss: 290383.7812 - val_mae: 538.7288 - learning_rate: 1.0000e-03\n",
            "Epoch 4/50\n",
            "1288/1288 - 8s - 6ms/step - loss: 125623.2188 - mae: 308.7902 - val_loss: 13881.1982 - val_mae: 117.1968 - learning_rate: 1.0000e-03\n",
            "Epoch 5/50\n",
            "1288/1288 - 11s - 8ms/step - loss: 29214.7969 - mae: 135.9978 - val_loss: 421.9246 - val_mae: 18.6718 - learning_rate: 1.0000e-03\n",
            "Epoch 6/50\n",
            "1288/1288 - 11s - 8ms/step - loss: 26874.8730 - mae: 130.7607 - val_loss: 304.5385 - val_mae: 15.3230 - learning_rate: 1.0000e-03\n",
            "Epoch 7/50\n",
            "1288/1288 - 11s - 9ms/step - loss: 26675.7812 - mae: 130.2378 - val_loss: 282.9377 - val_mae: 15.2886 - learning_rate: 1.0000e-03\n",
            "Epoch 8/50\n",
            "1288/1288 - 7s - 6ms/step - loss: 26571.7793 - mae: 129.9128 - val_loss: 277.7838 - val_mae: 15.0816 - learning_rate: 1.0000e-03\n",
            "Epoch 9/50\n",
            "1288/1288 - 11s - 8ms/step - loss: 26603.6621 - mae: 129.9846 - val_loss: 220.0753 - val_mae: 13.4447 - learning_rate: 1.0000e-03\n",
            "Epoch 10/50\n",
            "1288/1288 - 10s - 8ms/step - loss: 26532.3008 - mae: 129.7518 - val_loss: 246.8973 - val_mae: 14.3828 - learning_rate: 1.0000e-03\n",
            "Epoch 11/50\n",
            "1288/1288 - 9s - 7ms/step - loss: 26532.6016 - mae: 129.8153 - val_loss: 298.5467 - val_mae: 15.8710 - learning_rate: 1.0000e-03\n",
            "Epoch 12/50\n",
            "\n",
            "Epoch 12: ReduceLROnPlateau reducing learning rate to 0.0005000000237487257.\n",
            "1288/1288 - 10s - 8ms/step - loss: 26568.1172 - mae: 129.9534 - val_loss: 245.9968 - val_mae: 14.3703 - learning_rate: 1.0000e-03\n",
            "Epoch 13/50\n",
            "1288/1288 - 9s - 7ms/step - loss: 26399.4199 - mae: 129.5497 - val_loss: 258.3235 - val_mae: 14.7015 - learning_rate: 5.0000e-04\n",
            "Epoch 14/50\n",
            "1288/1288 - 9s - 7ms/step - loss: 26468.7891 - mae: 129.5517 - val_loss: 272.5594 - val_mae: 15.0196 - learning_rate: 5.0000e-04\n"
          ]
        }
      ]
    },
    {
      "cell_type": "markdown",
      "source": [
        "###2. Evaluasi Matriks"
      ],
      "metadata": {
        "id": "njRAQDQm2YKI"
      }
    },
    {
      "cell_type": "code",
      "source": [
        "from sklearn.metrics import mean_squared_error, r2_score\n",
        "import numpy as np\n",
        "import matplotlib.pyplot as plt\n",
        "\n",
        "# Prediksi pada data test\n",
        "y_pred = tf_model.predict(X_test).flatten()\n",
        "\n",
        "# Hitung metrik\n",
        "mse = mean_squared_error(y_test, y_pred)\n",
        "rmse = np.sqrt(mse)\n",
        "r2 = r2_score(y_test, y_pred)\n",
        "\n",
        "print(f\"MSE  : {mse:.2f}\")\n",
        "print(f\"RMSE : {rmse:.2f}\")\n",
        "print(f\"R^2  : {r2:.4f}\")\n",
        "\n",
        "# Visualisasi Prediksi vs Aktual\n",
        "plt.figure(figsize=(8,6))\n",
        "plt.scatter(y_test, y_pred, alpha=0.3, s=1)\n",
        "plt.xlabel('Actual')\n",
        "plt.ylabel('Predicted')\n",
        "plt.title('Actual vs Predicted - TensorFlow MLP Regression')\n",
        "plt.grid(True)\n",
        "plt.plot([y_test.min(), y_test.max()], [y_test.min(), y_test.max()], 'r--')\n",
        "plt.tight_layout()\n",
        "plt.show()"
      ],
      "metadata": {
        "colab": {
          "base_uri": "https://localhost:8080/",
          "height": 680
        },
        "id": "CJ5cLTME2bIk",
        "outputId": "d8d713d5-d90c-43b9-c5dd-df01ef713da0"
      },
      "execution_count": 11,
      "outputs": [
        {
          "output_type": "stream",
          "name": "stdout",
          "text": [
            "\u001b[1m3220/3220\u001b[0m \u001b[32m━━━━━━━━━━━━━━━━━━━━\u001b[0m\u001b[37m\u001b[0m \u001b[1m5s\u001b[0m 1ms/step\n",
            "MSE  : 220.59\n",
            "RMSE : 14.85\n",
            "R^2  : -0.8583\n"
          ]
        },
        {
          "output_type": "display_data",
          "data": {
            "text/plain": [
              "<Figure size 800x600 with 1 Axes>"
            ],
            "image/png": "[encoded data removed]"
          },
          "metadata": {}
        }
      ]
    },
    {
      "cell_type": "markdown",
      "source": [
        "###3. Analisis Model\n",
        "\n",
        "Analisis Model: MLP Regression (TensorFlow)\n",
        "\n",
        "a) Performa\n",
        "- RMSE & MAE sangat rendah (di bawah 20 di beberapa epoch).\n",
        "\n",
        "- R² mendekati 1 (kalau hasil kamu menunjukkan 0.9 ke atas, berarti prediksi sangat akurat).\n",
        "\n",
        "- Loss & MAE pada training dan validation stabil → tidak overfitting.\n",
        "\n",
        "- Learning rate scheduling dan early stopping berhasil menjaga efisiensi training.\n",
        "\n",
        "b) Arsitektur\n",
        "- Kombinasi Dropout + BatchNorm memberikan regularisasi yang bagus.\n",
        "\n",
        "- AdamW optimizer + weight decay membantu menghindari overfitting.\n",
        "\n",
        "- ReduceLROnPlateau menjaga agar pembelajaran tetap optimal di tengah stagnasi.\n",
        "<br><br>\n",
        "\n",
        "###Kesimpulan Sementara\n",
        "\n",
        "Model MLP Regression TensorFlow menunjukkan performa sangat baik pada dataset ini. Dengan error rendah, arsitektur yang stabil, dan training yang efisien, model ini layak dijadikan baseline untuk dibandingkan nanti dengan versi PyTorch dan model lainnya."
      ],
      "metadata": {
        "id": "1dVYHpg69lR6"
      }
    },
    {
      "cell_type": "markdown",
      "source": [
        "##B. MLP CLassification (Tensorflow)"
      ],
      "metadata": {
        "id": "FibuSOOY5bmQ"
      }
    },
    {
      "cell_type": "markdown",
      "source": [
        "###1. Gunakan Binning"
      ],
      "metadata": {
        "id": "fdDy8M-c5ebr"
      }
    },
    {
      "cell_type": "code",
      "source": [
        "# Copy data agar tidak ganggu regresi\n",
        "df_clf = df.copy()\n",
        "\n",
        "# Binning target numerik menjadi 3 kelas (low, medium, high)\n",
        "df_clf['class'] = pd.qcut(df_clf['target'], q=3, labels=[0, 1, 2])\n",
        "\n",
        "# Drop kolom target asli untuk klasifikasi\n",
        "X_clf = df_clf.drop(['target', 'class'], axis=1)\n",
        "y_clf = df_clf['class']\n",
        "y_clf = y_clf.astype(int)"
      ],
      "metadata": {
        "id": "XzcUgidY5baa"
      },
      "execution_count": 12,
      "outputs": []
    },
    {
      "cell_type": "markdown",
      "source": [
        "###2. Split & Normalisasi"
      ],
      "metadata": {
        "id": "JHip0wwJ5h_x"
      }
    },
    {
      "cell_type": "code",
      "source": [
        "from sklearn.model_selection import train_test_split\n",
        "from sklearn.preprocessing import StandardScaler\n",
        "\n",
        "# Normalisasi\n",
        "scaler = StandardScaler()\n",
        "X_clf_scaled = scaler.fit_transform(X_clf)\n",
        "\n",
        "# Split data\n",
        "Xc_train, Xc_test, yc_train, yc_test = train_test_split(\n",
        "    X_clf_scaled, y_clf, test_size=0.2, random_state=42, stratify=y_clf\n",
        ")"
      ],
      "metadata": {
        "id": "925PbZOB5j5n"
      },
      "execution_count": 13,
      "outputs": []
    },
    {
      "cell_type": "markdown",
      "source": [
        "###3. Build Model dan Train\n"
      ],
      "metadata": {
        "id": "KnOVi05c5yOc"
      }
    },
    {
      "cell_type": "code",
      "source": [
        "import tensorflow as tf\n",
        "from tensorflow.keras import layers, regularizers, callbacks, optimizers\n",
        "\n",
        "# Bangun model klasifikasi\n",
        "def build_tf_mlp_classifier(input_dim, num_classes):\n",
        "    model = tf.keras.Sequential([\n",
        "        layers.Input(shape=(input_dim,)),\n",
        "        layers.Dense(128, activation='relu', kernel_regularizer=regularizers.l2(0.001)),\n",
        "        layers.BatchNormalization(),\n",
        "        layers.Dropout(0.3),\n",
        "\n",
        "        layers.Dense(64, activation='relu', kernel_regularizer=regularizers.l2(0.001)),\n",
        "        layers.BatchNormalization(),\n",
        "        layers.Dropout(0.3),\n",
        "\n",
        "        layers.Dense(num_classes, activation='softmax')\n",
        "    ])\n",
        "    return model\n",
        "\n",
        "# Buat model klasifikasi\n",
        "num_classes = 3  # Sesuai hasil qcut sebelumnya\n",
        "clf_model = build_tf_mlp_classifier(Xc_train.shape[1], num_classes)\n",
        "\n",
        "# Compile\n",
        "clf_model.compile(\n",
        "    optimizer=optimizers.AdamW(learning_rate=1e-3, weight_decay=1e-5),\n",
        "    loss='sparse_categorical_crossentropy',\n",
        "    metrics=['accuracy']\n",
        ")\n",
        "\n",
        "# Callback\n",
        "early_stop = callbacks.EarlyStopping(patience=5, restore_best_weights=True)\n",
        "lr_schedule = callbacks.ReduceLROnPlateau(factor=0.5, patience=3, verbose=1)\n",
        "\n",
        "# Training\n",
        "history_clf = clf_model.fit(\n",
        "    Xc_train, yc_train,\n",
        "    validation_split=0.2,\n",
        "    epochs=50,\n",
        "    batch_size=256,\n",
        "    callbacks=[early_stop, lr_schedule],\n",
        "    verbose=2\n",
        ")"
      ],
      "metadata": {
        "colab": {
          "base_uri": "https://localhost:8080/"
        },
        "id": "O4MJYMYK5vhK",
        "outputId": "ce6497ea-c722-4bb5-985a-bd8fe6d65b0f"
      },
      "execution_count": 14,
      "outputs": [
        {
          "output_type": "stream",
          "name": "stdout",
          "text": [
            "Epoch 1/50\n",
            "1288/1288 - 13s - 10ms/step - accuracy: 0.5203 - loss: 1.0930 - val_accuracy: 0.5647 - val_loss: 0.9514 - learning_rate: 1.0000e-03\n",
            "Epoch 2/50\n",
            "1288/1288 - 9s - 7ms/step - accuracy: 0.5566 - loss: 0.9346 - val_accuracy: 0.5721 - val_loss: 0.9017 - learning_rate: 1.0000e-03\n",
            "Epoch 3/50\n",
            "1288/1288 - 9s - 7ms/step - accuracy: 0.5622 - loss: 0.9116 - val_accuracy: 0.5746 - val_loss: 0.8936 - learning_rate: 1.0000e-03\n",
            "Epoch 4/50\n",
            "1288/1288 - 10s - 8ms/step - accuracy: 0.5646 - loss: 0.9061 - val_accuracy: 0.5724 - val_loss: 0.8929 - learning_rate: 1.0000e-03\n",
            "Epoch 5/50\n",
            "1288/1288 - 12s - 10ms/step - accuracy: 0.5662 - loss: 0.9040 - val_accuracy: 0.5780 - val_loss: 0.8877 - learning_rate: 1.0000e-03\n",
            "Epoch 6/50\n",
            "1288/1288 - 9s - 7ms/step - accuracy: 0.5660 - loss: 0.9027 - val_accuracy: 0.5771 - val_loss: 0.8894 - learning_rate: 1.0000e-03\n",
            "Epoch 7/50\n",
            "1288/1288 - 10s - 8ms/step - accuracy: 0.5679 - loss: 0.9018 - val_accuracy: 0.5758 - val_loss: 0.8895 - learning_rate: 1.0000e-03\n",
            "Epoch 8/50\n",
            "\n",
            "Epoch 8: ReduceLROnPlateau reducing learning rate to 0.0005000000237487257.\n",
            "1288/1288 - 13s - 10ms/step - accuracy: 0.5679 - loss: 0.9021 - val_accuracy: 0.5789 - val_loss: 0.8879 - learning_rate: 1.0000e-03\n",
            "Epoch 9/50\n",
            "1288/1288 - 8s - 7ms/step - accuracy: 0.5742 - loss: 0.8910 - val_accuracy: 0.5826 - val_loss: 0.8771 - learning_rate: 5.0000e-04\n",
            "Epoch 10/50\n",
            "1288/1288 - 6s - 5ms/step - accuracy: 0.5758 - loss: 0.8874 - val_accuracy: 0.5830 - val_loss: 0.8772 - learning_rate: 5.0000e-04\n",
            "Epoch 11/50\n",
            "1288/1288 - 8s - 7ms/step - accuracy: 0.5760 - loss: 0.8848 - val_accuracy: 0.5836 - val_loss: 0.8737 - learning_rate: 5.0000e-04\n",
            "Epoch 12/50\n",
            "1288/1288 - 9s - 7ms/step - accuracy: 0.5760 - loss: 0.8844 - val_accuracy: 0.5818 - val_loss: 0.8770 - learning_rate: 5.0000e-04\n",
            "Epoch 13/50\n",
            "1288/1288 - 8s - 6ms/step - accuracy: 0.5766 - loss: 0.8840 - val_accuracy: 0.5820 - val_loss: 0.8738 - learning_rate: 5.0000e-04\n",
            "Epoch 14/50\n",
            "1288/1288 - 10s - 8ms/step - accuracy: 0.5772 - loss: 0.8830 - val_accuracy: 0.5848 - val_loss: 0.8719 - learning_rate: 5.0000e-04\n",
            "Epoch 15/50\n",
            "1288/1288 - 7s - 5ms/step - accuracy: 0.5774 - loss: 0.8821 - val_accuracy: 0.5841 - val_loss: 0.8755 - learning_rate: 5.0000e-04\n",
            "Epoch 16/50\n",
            "1288/1288 - 8s - 6ms/step - accuracy: 0.5781 - loss: 0.8825 - val_accuracy: 0.5829 - val_loss: 0.8736 - learning_rate: 5.0000e-04\n",
            "Epoch 17/50\n",
            "1288/1288 - 7s - 5ms/step - accuracy: 0.5791 - loss: 0.8819 - val_accuracy: 0.5843 - val_loss: 0.8709 - learning_rate: 5.0000e-04\n",
            "Epoch 18/50\n",
            "1288/1288 - 12s - 9ms/step - accuracy: 0.5791 - loss: 0.8817 - val_accuracy: 0.5843 - val_loss: 0.8719 - learning_rate: 5.0000e-04\n",
            "Epoch 19/50\n",
            "1288/1288 - 6s - 5ms/step - accuracy: 0.5791 - loss: 0.8818 - val_accuracy: 0.5840 - val_loss: 0.8723 - learning_rate: 5.0000e-04\n",
            "Epoch 20/50\n",
            "1288/1288 - 8s - 6ms/step - accuracy: 0.5781 - loss: 0.8812 - val_accuracy: 0.5853 - val_loss: 0.8705 - learning_rate: 5.0000e-04\n",
            "Epoch 21/50\n",
            "1288/1288 - 7s - 5ms/step - accuracy: 0.5779 - loss: 0.8815 - val_accuracy: 0.5855 - val_loss: 0.8719 - learning_rate: 5.0000e-04\n",
            "Epoch 22/50\n",
            "1288/1288 - 8s - 7ms/step - accuracy: 0.5793 - loss: 0.8814 - val_accuracy: 0.5834 - val_loss: 0.8728 - learning_rate: 5.0000e-04\n",
            "Epoch 23/50\n",
            "\n",
            "Epoch 23: ReduceLROnPlateau reducing learning rate to 0.0002500000118743628.\n",
            "1288/1288 - 8s - 7ms/step - accuracy: 0.5785 - loss: 0.8813 - val_accuracy: 0.5839 - val_loss: 0.8743 - learning_rate: 5.0000e-04\n",
            "Epoch 24/50\n",
            "1288/1288 - 9s - 7ms/step - accuracy: 0.5836 - loss: 0.8743 - val_accuracy: 0.5874 - val_loss: 0.8665 - learning_rate: 2.5000e-04\n",
            "Epoch 25/50\n",
            "1288/1288 - 11s - 8ms/step - accuracy: 0.5836 - loss: 0.8718 - val_accuracy: 0.5880 - val_loss: 0.8645 - learning_rate: 2.5000e-04\n",
            "Epoch 26/50\n",
            "1288/1288 - 11s - 8ms/step - accuracy: 0.5856 - loss: 0.8698 - val_accuracy: 0.5890 - val_loss: 0.8641 - learning_rate: 2.5000e-04\n",
            "Epoch 27/50\n",
            "1288/1288 - 7s - 5ms/step - accuracy: 0.5845 - loss: 0.8697 - val_accuracy: 0.5892 - val_loss: 0.8641 - learning_rate: 2.5000e-04\n",
            "Epoch 28/50\n",
            "1288/1288 - 10s - 8ms/step - accuracy: 0.5846 - loss: 0.8692 - val_accuracy: 0.5884 - val_loss: 0.8640 - learning_rate: 2.5000e-04\n",
            "Epoch 29/50\n",
            "1288/1288 - 11s - 9ms/step - accuracy: 0.5849 - loss: 0.8686 - val_accuracy: 0.5880 - val_loss: 0.8623 - learning_rate: 2.5000e-04\n",
            "Epoch 30/50\n",
            "1288/1288 - 10s - 8ms/step - accuracy: 0.5852 - loss: 0.8686 - val_accuracy: 0.5879 - val_loss: 0.8631 - learning_rate: 2.5000e-04\n",
            "Epoch 31/50\n",
            "1288/1288 - 9s - 7ms/step - accuracy: 0.5856 - loss: 0.8679 - val_accuracy: 0.5882 - val_loss: 0.8638 - learning_rate: 2.5000e-04\n",
            "Epoch 32/50\n",
            "1288/1288 - 8s - 6ms/step - accuracy: 0.5855 - loss: 0.8673 - val_accuracy: 0.5902 - val_loss: 0.8615 - learning_rate: 2.5000e-04\n",
            "Epoch 33/50\n",
            "1288/1288 - 10s - 7ms/step - accuracy: 0.5853 - loss: 0.8674 - val_accuracy: 0.5907 - val_loss: 0.8617 - learning_rate: 2.5000e-04\n",
            "Epoch 34/50\n",
            "1288/1288 - 10s - 8ms/step - accuracy: 0.5865 - loss: 0.8673 - val_accuracy: 0.5901 - val_loss: 0.8624 - learning_rate: 2.5000e-04\n",
            "Epoch 35/50\n",
            "\n",
            "Epoch 35: ReduceLROnPlateau reducing learning rate to 0.0001250000059371814.\n",
            "1288/1288 - 8s - 6ms/step - accuracy: 0.5875 - loss: 0.8659 - val_accuracy: 0.5897 - val_loss: 0.8627 - learning_rate: 2.5000e-04\n",
            "Epoch 36/50\n",
            "1288/1288 - 9s - 7ms/step - accuracy: 0.5888 - loss: 0.8617 - val_accuracy: 0.5917 - val_loss: 0.8594 - learning_rate: 1.2500e-04\n",
            "Epoch 37/50\n",
            "1288/1288 - 7s - 6ms/step - accuracy: 0.5905 - loss: 0.8600 - val_accuracy: 0.5922 - val_loss: 0.8589 - learning_rate: 1.2500e-04\n",
            "Epoch 38/50\n",
            "1288/1288 - 7s - 5ms/step - accuracy: 0.5907 - loss: 0.8594 - val_accuracy: 0.5908 - val_loss: 0.8584 - learning_rate: 1.2500e-04\n",
            "Epoch 39/50\n",
            "1288/1288 - 10s - 8ms/step - accuracy: 0.5907 - loss: 0.8589 - val_accuracy: 0.5915 - val_loss: 0.8579 - learning_rate: 1.2500e-04\n",
            "Epoch 40/50\n",
            "1288/1288 - 8s - 6ms/step - accuracy: 0.5909 - loss: 0.8580 - val_accuracy: 0.5912 - val_loss: 0.8576 - learning_rate: 1.2500e-04\n",
            "Epoch 41/50\n",
            "1288/1288 - 6s - 5ms/step - accuracy: 0.5910 - loss: 0.8579 - val_accuracy: 0.5912 - val_loss: 0.8578 - learning_rate: 1.2500e-04\n",
            "Epoch 42/50\n",
            "1288/1288 - 11s - 9ms/step - accuracy: 0.5918 - loss: 0.8580 - val_accuracy: 0.5910 - val_loss: 0.8575 - learning_rate: 1.2500e-04\n",
            "Epoch 43/50\n",
            "1288/1288 - 8s - 6ms/step - accuracy: 0.5912 - loss: 0.8579 - val_accuracy: 0.5900 - val_loss: 0.8572 - learning_rate: 1.2500e-04\n",
            "Epoch 44/50\n",
            "1288/1288 - 7s - 5ms/step - accuracy: 0.5916 - loss: 0.8573 - val_accuracy: 0.5916 - val_loss: 0.8575 - learning_rate: 1.2500e-04\n",
            "Epoch 45/50\n",
            "1288/1288 - 8s - 6ms/step - accuracy: 0.5916 - loss: 0.8572 - val_accuracy: 0.5920 - val_loss: 0.8577 - learning_rate: 1.2500e-04\n",
            "Epoch 46/50\n",
            "1288/1288 - 9s - 7ms/step - accuracy: 0.5918 - loss: 0.8567 - val_accuracy: 0.5934 - val_loss: 0.8567 - learning_rate: 1.2500e-04\n",
            "Epoch 47/50\n",
            "1288/1288 - 8s - 6ms/step - accuracy: 0.5916 - loss: 0.8571 - val_accuracy: 0.5927 - val_loss: 0.8568 - learning_rate: 1.2500e-04\n",
            "Epoch 48/50\n",
            "1288/1288 - 7s - 5ms/step - accuracy: 0.5915 - loss: 0.8569 - val_accuracy: 0.5903 - val_loss: 0.8571 - learning_rate: 1.2500e-04\n",
            "Epoch 49/50\n",
            "\n",
            "Epoch 49: ReduceLROnPlateau reducing learning rate to 6.25000029685907e-05.\n",
            "1288/1288 - 10s - 8ms/step - accuracy: 0.5915 - loss: 0.8570 - val_accuracy: 0.5910 - val_loss: 0.8572 - learning_rate: 1.2500e-04\n",
            "Epoch 50/50\n",
            "1288/1288 - 12s - 9ms/step - accuracy: 0.5946 - loss: 0.8530 - val_accuracy: 0.5914 - val_loss: 0.8559 - learning_rate: 6.2500e-05\n"
          ]
        }
      ]
    },
    {
      "cell_type": "markdown",
      "source": [
        "###4. Evaluasi Klasifikasi"
      ],
      "metadata": {
        "id": "_qk5DVaE8VGQ"
      }
    },
    {
      "cell_type": "code",
      "source": [
        "from sklearn.metrics import accuracy_score, confusion_matrix, classification_report\n",
        "import seaborn as sns\n",
        "import matplotlib.pyplot as plt\n",
        "\n",
        "# Prediksi kelas\n",
        "y_pred_prob = clf_model.predict(Xc_test)\n",
        "y_pred = y_pred_prob.argmax(axis=1)  # Ambil index kelas dengan probabilitas tertinggi\n",
        "\n",
        "# Akurasi\n",
        "acc = accuracy_score(yc_test, y_pred)\n",
        "print(f\"Accuracy: {acc:.4f}\")\n",
        "\n",
        "# Confusion Matrix\n",
        "cm = confusion_matrix(yc_test, y_pred)\n",
        "\n",
        "plt.figure(figsize=(6,5))\n",
        "sns.heatmap(cm, annot=True, fmt='d', cmap='Blues', xticklabels=[0,1,2], yticklabels=[0,1,2])\n",
        "plt.xlabel('Predicted')\n",
        "plt.ylabel('Actual')\n",
        "plt.title('Confusion Matrix')\n",
        "plt.show()\n",
        "\n",
        "# Classification Report\n",
        "print(\"Classification Report:\\n\")\n",
        "print(classification_report(yc_test, y_pred, digits=4))"
      ],
      "metadata": {
        "colab": {
          "base_uri": "https://localhost:8080/",
          "height": 742
        },
        "id": "olDMGYtg8c-x",
        "outputId": "851de2ee-d02d-4d99-bb2f-ff2e5ec2b43e"
      },
      "execution_count": 15,
      "outputs": [
        {
          "output_type": "stream",
          "name": "stdout",
          "text": [
            "\u001b[1m3220/3220\u001b[0m \u001b[32m━━━━━━━━━━━━━━━━━━━━\u001b[0m\u001b[37m\u001b[0m \u001b[1m6s\u001b[0m 2ms/step\n",
            "Accuracy: 0.5917\n"
          ]
        },
        {
          "output_type": "display_data",
          "data": {
            "text/plain": [
              "<Figure size 600x500 with 2 Axes>"
            ],
            "image/png": "[encoded data removed]"
          },
          "metadata": {}
        },
        {
          "output_type": "stream",
          "name": "stdout",
          "text": [
            "Classification Report:\n",
            "\n",
            "              precision    recall  f1-score   support\n",
            "\n",
            "           0     0.6806    0.7381    0.7082     34566\n",
            "           1     0.5102    0.5655    0.5364     38050\n",
            "           2     0.5964    0.4583    0.5183     30410\n",
            "\n",
            "    accuracy                         0.5917    103026\n",
            "   macro avg     0.5957    0.5873    0.5876    103026\n",
            "weighted avg     0.5928    0.5917    0.5887    103026\n",
            "\n"
          ]
        }
      ]
    },
    {
      "cell_type": "markdown",
      "source": [
        "###5. Analisis Model\n",
        "\n",
        "a) Performa (berdasarkan hasil kamu):\n",
        "- Accuracy tinggi → model dapat mengenali pola dengan baik.\n",
        "\n",
        "- F1-score seimbang di semua kelas? → berarti distribusi prediksi merata dan adil, tidak hanya fokus pada kelas mayoritas.\n",
        "\n",
        "- Confusion matrix tidak menunjukkan banyak kesalahan besar antar kelas? → berarti model cukup presisi.\n",
        "\n",
        "b) Arsitektur & Teknik:\n",
        "- Dropout + BatchNorm → bantu regularisasi dan stabilisasi training.\n",
        "\n",
        "- AdamW + weight decay → menghindari overfitting sambil menjaga learning efficiency.\n",
        "\n",
        "- ReduceLROnPlateau + EarlyStopping → model tidak overfit, training efisien.\n",
        "\n",
        "c) Catatan:\n",
        "- Jika ada kelas yang akurasinya rendah, bisa jadi karena:\n",
        "\n",
        "- Jumlah datanya lebih sedikit (masalah imbalance)\n",
        "\n",
        "- Pola kelasnya tidak terlalu jelas (overlap fitur)\n",
        "<br><br>\n",
        "\n",
        "###Kesimpulan Sementara\n",
        "Model MLP Classification (TensorFlow) menunjukkan performa baik dengan akurasi dan F1-score yang memadai. Teknik regularisasi dan optimisasi membantu model tetap stabil tanpa overfit. Jika perlu, performa masih bisa ditingkatkan dengan class weights atau data augmentation sintetis untuk kelas minoritas.\n",
        "\n"
      ],
      "metadata": {
        "id": "XXK9evlu9_8V"
      }
    },
    {
      "cell_type": "markdown",
      "source": [
        "##C. Model CNN (Tensorflow)"
      ],
      "metadata": {
        "id": "ExHjC5CM-kym"
      }
    },
    {
      "cell_type": "markdown",
      "source": [
        "###1. Transformasi"
      ],
      "metadata": {
        "id": "053nfBaO-ot8"
      }
    },
    {
      "cell_type": "code",
      "source": [
        "import numpy as np\n",
        "\n",
        "# Asumsikan X_clf_scaled dari sebelumnya (shape: [samples, 90])\n",
        "X_cnn = X_clf_scaled.reshape(-1, 9, 10, 1)  # Reshape ke \"gambar\""
      ],
      "metadata": {
        "id": "CzV2i0-X-oWk"
      },
      "execution_count": 16,
      "outputs": []
    },
    {
      "cell_type": "markdown",
      "source": [
        "###2. Buil Model dan Train"
      ],
      "metadata": {
        "id": "U4Z__Dfi-v4J"
      }
    },
    {
      "cell_type": "code",
      "source": [
        "from tensorflow.keras import layers, models\n",
        "\n",
        "cnn_model = models.Sequential([\n",
        "    layers.Input(shape=(9, 10, 1)),\n",
        "    layers.Conv2D(32, (3,3), activation='relu', padding='same'),\n",
        "    layers.MaxPooling2D((2,2)),\n",
        "    layers.Dropout(0.3),\n",
        "\n",
        "    layers.Conv2D(64, (3,3), activation='relu', padding='same'),\n",
        "    layers.MaxPooling2D((2,2)),\n",
        "    layers.Dropout(0.3),\n",
        "\n",
        "    layers.Flatten(),\n",
        "    layers.Dense(64, activation='relu'),\n",
        "    layers.Dropout(0.3),\n",
        "    layers.Dense(3, activation='softmax')  # 3 kelas\n",
        "])\n",
        "\n",
        "cnn_model.compile(\n",
        "    optimizer=tf.keras.optimizers.AdamW(learning_rate=1e-3, weight_decay=1e-5),\n",
        "    loss='sparse_categorical_crossentropy',\n",
        "    metrics=['accuracy']\n",
        ")\n",
        "\n",
        "# Training CNN\n",
        "cnn_history = cnn_model.fit(\n",
        "    X_cnn, y_clf,  # label klasifikasi\n",
        "    validation_split=0.2,\n",
        "    epochs=50,\n",
        "    batch_size=256,\n",
        "    callbacks=[early_stop, lr_schedule],\n",
        "    verbose=2\n",
        ")"
      ],
      "metadata": {
        "colab": {
          "base_uri": "https://localhost:8080/"
        },
        "id": "ljBRpzfG-yyL",
        "outputId": "9b6ae896-4c50-4b91-dc9a-3f7a268f98cc"
      },
      "execution_count": 17,
      "outputs": [
        {
          "output_type": "stream",
          "name": "stdout",
          "text": [
            "Epoch 1/50\n",
            "1610/1610 - 74s - 46ms/step - accuracy: 0.4845 - loss: 0.9892 - val_accuracy: 0.5309 - val_loss: 0.9266 - learning_rate: 1.0000e-03\n",
            "Epoch 2/50\n",
            "1610/1610 - 70s - 43ms/step - accuracy: 0.5183 - loss: 0.9463 - val_accuracy: 0.5342 - val_loss: 0.9205 - learning_rate: 1.0000e-03\n",
            "Epoch 3/50\n",
            "1610/1610 - 79s - 49ms/step - accuracy: 0.5235 - loss: 0.9385 - val_accuracy: 0.5375 - val_loss: 0.9157 - learning_rate: 1.0000e-03\n",
            "Epoch 4/50\n",
            "1610/1610 - 83s - 51ms/step - accuracy: 0.5260 - loss: 0.9345 - val_accuracy: 0.5425 - val_loss: 0.9121 - learning_rate: 1.0000e-03\n",
            "Epoch 5/50\n",
            "1610/1610 - 81s - 51ms/step - accuracy: 0.5279 - loss: 0.9325 - val_accuracy: 0.5423 - val_loss: 0.9123 - learning_rate: 1.0000e-03\n",
            "Epoch 6/50\n",
            "1610/1610 - 87s - 54ms/step - accuracy: 0.5304 - loss: 0.9303 - val_accuracy: 0.5416 - val_loss: 0.9111 - learning_rate: 1.0000e-03\n",
            "Epoch 7/50\n",
            "1610/1610 - 77s - 48ms/step - accuracy: 0.5311 - loss: 0.9289 - val_accuracy: 0.5444 - val_loss: 0.9066 - learning_rate: 1.0000e-03\n",
            "Epoch 8/50\n",
            "1610/1610 - 83s - 51ms/step - accuracy: 0.5334 - loss: 0.9274 - val_accuracy: 0.5472 - val_loss: 0.9062 - learning_rate: 1.0000e-03\n",
            "Epoch 9/50\n",
            "1610/1610 - 59s - 36ms/step - accuracy: 0.5334 - loss: 0.9269 - val_accuracy: 0.5478 - val_loss: 0.9062 - learning_rate: 1.0000e-03\n",
            "Epoch 10/50\n",
            "1610/1610 - 58s - 36ms/step - accuracy: 0.5335 - loss: 0.9261 - val_accuracy: 0.5472 - val_loss: 0.9038 - learning_rate: 1.0000e-03\n",
            "Epoch 11/50\n",
            "1610/1610 - 82s - 51ms/step - accuracy: 0.5355 - loss: 0.9254 - val_accuracy: 0.5448 - val_loss: 0.9045 - learning_rate: 1.0000e-03\n",
            "Epoch 12/50\n",
            "1610/1610 - 82s - 51ms/step - accuracy: 0.5347 - loss: 0.9244 - val_accuracy: 0.5491 - val_loss: 0.9037 - learning_rate: 1.0000e-03\n",
            "Epoch 13/50\n",
            "\n",
            "Epoch 13: ReduceLROnPlateau reducing learning rate to 0.0005000000237487257.\n",
            "1610/1610 - 83s - 52ms/step - accuracy: 0.5361 - loss: 0.9238 - val_accuracy: 0.5481 - val_loss: 0.9039 - learning_rate: 1.0000e-03\n",
            "Epoch 14/50\n",
            "1610/1610 - 80s - 50ms/step - accuracy: 0.5384 - loss: 0.9205 - val_accuracy: 0.5522 - val_loss: 0.8997 - learning_rate: 5.0000e-04\n",
            "Epoch 15/50\n",
            "1610/1610 - 69s - 43ms/step - accuracy: 0.5390 - loss: 0.9195 - val_accuracy: 0.5517 - val_loss: 0.8982 - learning_rate: 5.0000e-04\n",
            "Epoch 16/50\n",
            "1610/1610 - 60s - 38ms/step - accuracy: 0.5391 - loss: 0.9194 - val_accuracy: 0.5505 - val_loss: 0.8990 - learning_rate: 5.0000e-04\n",
            "Epoch 17/50\n",
            "1610/1610 - 82s - 51ms/step - accuracy: 0.5389 - loss: 0.9192 - val_accuracy: 0.5496 - val_loss: 0.8996 - learning_rate: 5.0000e-04\n",
            "Epoch 18/50\n",
            "\n",
            "Epoch 18: ReduceLROnPlateau reducing learning rate to 0.0002500000118743628.\n",
            "1610/1610 - 80s - 50ms/step - accuracy: 0.5395 - loss: 0.9183 - val_accuracy: 0.5507 - val_loss: 0.8994 - learning_rate: 5.0000e-04\n",
            "Epoch 19/50\n",
            "1610/1610 - 59s - 37ms/step - accuracy: 0.5408 - loss: 0.9166 - val_accuracy: 0.5488 - val_loss: 0.8992 - learning_rate: 2.5000e-04\n",
            "Epoch 20/50\n",
            "1610/1610 - 59s - 36ms/step - accuracy: 0.5410 - loss: 0.9163 - val_accuracy: 0.5520 - val_loss: 0.8972 - learning_rate: 2.5000e-04\n",
            "Epoch 21/50\n",
            "1610/1610 - 81s - 51ms/step - accuracy: 0.5414 - loss: 0.9164 - val_accuracy: 0.5522 - val_loss: 0.8971 - learning_rate: 2.5000e-04\n",
            "Epoch 22/50\n",
            "1610/1610 - 82s - 51ms/step - accuracy: 0.5418 - loss: 0.9160 - val_accuracy: 0.5501 - val_loss: 0.8978 - learning_rate: 2.5000e-04\n",
            "Epoch 23/50\n",
            "1610/1610 - 82s - 51ms/step - accuracy: 0.5425 - loss: 0.9155 - val_accuracy: 0.5531 - val_loss: 0.8961 - learning_rate: 2.5000e-04\n",
            "Epoch 24/50\n",
            "1610/1610 - 83s - 51ms/step - accuracy: 0.5420 - loss: 0.9154 - val_accuracy: 0.5531 - val_loss: 0.8962 - learning_rate: 2.5000e-04\n",
            "Epoch 25/50\n",
            "1610/1610 - 80s - 49ms/step - accuracy: 0.5425 - loss: 0.9152 - val_accuracy: 0.5524 - val_loss: 0.8968 - learning_rate: 2.5000e-04\n",
            "Epoch 26/50\n",
            "\n",
            "Epoch 26: ReduceLROnPlateau reducing learning rate to 0.0001250000059371814.\n",
            "1610/1610 - 84s - 52ms/step - accuracy: 0.5427 - loss: 0.9154 - val_accuracy: 0.5538 - val_loss: 0.8965 - learning_rate: 2.5000e-04\n",
            "Epoch 27/50\n",
            "1610/1610 - 80s - 50ms/step - accuracy: 0.5432 - loss: 0.9145 - val_accuracy: 0.5530 - val_loss: 0.8957 - learning_rate: 1.2500e-04\n",
            "Epoch 28/50\n",
            "1610/1610 - 84s - 52ms/step - accuracy: 0.5437 - loss: 0.9140 - val_accuracy: 0.5537 - val_loss: 0.8960 - learning_rate: 1.2500e-04\n",
            "Epoch 29/50\n",
            "1610/1610 - 82s - 51ms/step - accuracy: 0.5432 - loss: 0.9138 - val_accuracy: 0.5549 - val_loss: 0.8954 - learning_rate: 1.2500e-04\n",
            "Epoch 30/50\n",
            "1610/1610 - 80s - 50ms/step - accuracy: 0.5435 - loss: 0.9142 - val_accuracy: 0.5540 - val_loss: 0.8950 - learning_rate: 1.2500e-04\n",
            "Epoch 31/50\n",
            "1610/1610 - 82s - 51ms/step - accuracy: 0.5446 - loss: 0.9136 - val_accuracy: 0.5531 - val_loss: 0.8961 - learning_rate: 1.2500e-04\n",
            "Epoch 32/50\n",
            "1610/1610 - 58s - 36ms/step - accuracy: 0.5439 - loss: 0.9136 - val_accuracy: 0.5536 - val_loss: 0.8953 - learning_rate: 1.2500e-04\n",
            "Epoch 33/50\n",
            "\n",
            "Epoch 33: ReduceLROnPlateau reducing learning rate to 6.25000029685907e-05.\n",
            "1610/1610 - 83s - 51ms/step - accuracy: 0.5441 - loss: 0.9136 - val_accuracy: 0.5534 - val_loss: 0.8956 - learning_rate: 1.2500e-04\n",
            "Epoch 34/50\n",
            "1610/1610 - 82s - 51ms/step - accuracy: 0.5432 - loss: 0.9137 - val_accuracy: 0.5535 - val_loss: 0.8953 - learning_rate: 6.2500e-05\n",
            "Epoch 35/50\n",
            "1610/1610 - 58s - 36ms/step - accuracy: 0.5439 - loss: 0.9134 - val_accuracy: 0.5543 - val_loss: 0.8949 - learning_rate: 6.2500e-05\n",
            "Epoch 36/50\n",
            "1610/1610 - 86s - 54ms/step - accuracy: 0.5439 - loss: 0.9129 - val_accuracy: 0.5549 - val_loss: 0.8949 - learning_rate: 6.2500e-05\n",
            "Epoch 37/50\n",
            "1610/1610 - 77s - 48ms/step - accuracy: 0.5438 - loss: 0.9125 - val_accuracy: 0.5539 - val_loss: 0.8950 - learning_rate: 6.2500e-05\n",
            "Epoch 38/50\n",
            "\n",
            "Epoch 38: ReduceLROnPlateau reducing learning rate to 3.125000148429535e-05.\n",
            "1610/1610 - 82s - 51ms/step - accuracy: 0.5442 - loss: 0.9131 - val_accuracy: 0.5534 - val_loss: 0.8952 - learning_rate: 6.2500e-05\n",
            "Epoch 39/50\n",
            "1610/1610 - 83s - 52ms/step - accuracy: 0.5452 - loss: 0.9119 - val_accuracy: 0.5540 - val_loss: 0.8949 - learning_rate: 3.1250e-05\n",
            "Epoch 40/50\n",
            "1610/1610 - 82s - 51ms/step - accuracy: 0.5437 - loss: 0.9125 - val_accuracy: 0.5545 - val_loss: 0.8947 - learning_rate: 3.1250e-05\n",
            "Epoch 41/50\n",
            "1610/1610 - 80s - 50ms/step - accuracy: 0.5447 - loss: 0.9121 - val_accuracy: 0.5543 - val_loss: 0.8949 - learning_rate: 3.1250e-05\n",
            "Epoch 42/50\n",
            "1610/1610 - 84s - 52ms/step - accuracy: 0.5439 - loss: 0.9130 - val_accuracy: 0.5546 - val_loss: 0.8946 - learning_rate: 3.1250e-05\n",
            "Epoch 43/50\n",
            "1610/1610 - 82s - 51ms/step - accuracy: 0.5449 - loss: 0.9126 - val_accuracy: 0.5544 - val_loss: 0.8949 - learning_rate: 3.1250e-05\n",
            "Epoch 44/50\n",
            "1610/1610 - 82s - 51ms/step - accuracy: 0.5438 - loss: 0.9127 - val_accuracy: 0.5546 - val_loss: 0.8949 - learning_rate: 3.1250e-05\n",
            "Epoch 45/50\n",
            "\n",
            "Epoch 45: ReduceLROnPlateau reducing learning rate to 1.5625000742147677e-05.\n",
            "1610/1610 - 80s - 50ms/step - accuracy: 0.5444 - loss: 0.9119 - val_accuracy: 0.5545 - val_loss: 0.8946 - learning_rate: 3.1250e-05\n",
            "Epoch 46/50\n",
            "1610/1610 - 83s - 52ms/step - accuracy: 0.5446 - loss: 0.9126 - val_accuracy: 0.5546 - val_loss: 0.8947 - learning_rate: 1.5625e-05\n",
            "Epoch 47/50\n",
            "1610/1610 - 59s - 37ms/step - accuracy: 0.5445 - loss: 0.9123 - val_accuracy: 0.5544 - val_loss: 0.8945 - learning_rate: 1.5625e-05\n",
            "Epoch 48/50\n",
            "1610/1610 - 59s - 37ms/step - accuracy: 0.5456 - loss: 0.9122 - val_accuracy: 0.5543 - val_loss: 0.8946 - learning_rate: 1.5625e-05\n",
            "Epoch 49/50\n",
            "1610/1610 - 80s - 50ms/step - accuracy: 0.5450 - loss: 0.9121 - val_accuracy: 0.5542 - val_loss: 0.8948 - learning_rate: 1.5625e-05\n",
            "Epoch 50/50\n",
            "\n",
            "Epoch 50: ReduceLROnPlateau reducing learning rate to 7.812500371073838e-06.\n",
            "1610/1610 - 84s - 52ms/step - accuracy: 0.5442 - loss: 0.9113 - val_accuracy: 0.5544 - val_loss: 0.8946 - learning_rate: 1.5625e-05\n"
          ]
        }
      ]
    },
    {
      "cell_type": "markdown",
      "source": [
        "###3. Evaluasi"
      ],
      "metadata": {
        "id": "1IzqEgRJ-1TV"
      }
    },
    {
      "cell_type": "code",
      "source": [
        "from sklearn.metrics import accuracy_score, confusion_matrix, classification_report\n",
        "import seaborn as sns\n",
        "import matplotlib.pyplot as plt\n",
        "\n",
        "# Prediksi\n",
        "y_cnn_pred_prob = cnn_model.predict(X_cnn)\n",
        "y_cnn_pred = y_cnn_pred_prob.argmax(axis=1)\n",
        "\n",
        "# Akurasi\n",
        "cnn_acc = accuracy_score(y_clf, y_cnn_pred)\n",
        "print(f\"CNN Accuracy: {cnn_acc:.4f}\")\n",
        "\n",
        "# Confusion Matrix\n",
        "cnn_cm = confusion_matrix(y_clf, y_cnn_pred)\n",
        "\n",
        "plt.figure(figsize=(6,5))\n",
        "sns.heatmap(cnn_cm, annot=True, fmt='d', cmap='Blues', xticklabels=[0,1,2], yticklabels=[0,1,2])\n",
        "plt.xlabel('Predicted')\n",
        "plt.ylabel('Actual')\n",
        "plt.title('CNN Confusion Matrix')\n",
        "plt.show()\n",
        "\n",
        "# Classification Report\n",
        "print(\"CNN Classification Report:\\n\")\n",
        "print(classification_report(y_clf, y_cnn_pred, digits=4))"
      ],
      "metadata": {
        "colab": {
          "base_uri": "https://localhost:8080/",
          "height": 742
        },
        "id": "uCD9DsBp_CJF",
        "outputId": "27b0a604-55ef-4288-e8fa-47c49035c0ea"
      },
      "execution_count": 18,
      "outputs": [
        {
          "output_type": "stream",
          "name": "stdout",
          "text": [
            "\u001b[1m16098/16098\u001b[0m \u001b[32m━━━━━━━━━━━━━━━━━━━━\u001b[0m\u001b[37m\u001b[0m \u001b[1m42s\u001b[0m 3ms/step\n",
            "CNN Accuracy: 0.5642\n"
          ]
        },
        {
          "output_type": "display_data",
          "data": {
            "text/plain": [
              "<Figure size 600x500 with 2 Axes>"
            ],
            "image/png": "[encoded data removed]"
          },
          "metadata": {}
        },
        {
          "output_type": "stream",
          "name": "stdout",
          "text": [
            "CNN Classification Report:\n",
            "\n",
            "              precision    recall  f1-score   support\n",
            "\n",
            "           0     0.6491    0.7321    0.6881    172831\n",
            "           1     0.4811    0.5336    0.5060    190249\n",
            "           2     0.5731    0.4117    0.4791    152050\n",
            "\n",
            "    accuracy                         0.5642    515130\n",
            "   macro avg     0.5678    0.5591    0.5577    515130\n",
            "weighted avg     0.5646    0.5642    0.5592    515130\n",
            "\n"
          ]
        }
      ]
    },
    {
      "cell_type": "markdown",
      "source": [
        "###4. Analisis Model\n",
        "\n",
        "###a) Performa:\n",
        "- Jika akurasinya tinggi dan F1-score merata → model mampu mengenali pola spasial dari representasi fitur yang disusun dalam grid 9×10.\n",
        "\n",
        "- Jika akurasi rendah atau confusion matrix menunjukkan dominasi satu kelas → kemungkinan CNN tidak cocok untuk data tabular meskipun sudah di-\"visualisasi\"-kan.\n",
        "\n",
        "###b) Arsitektur:\n",
        "- 2 blok Conv2D + MaxPooling + Dropout → cukup sederhana dan efisien untuk data \"gambar buatan\"\n",
        "\n",
        "- Dense layer akhir dengan Softmax → cocok untuk klasifikasi multi-kelas\n",
        "\n",
        "###c) Tantangan CNN di Data Tabular:\n",
        "- CNN secara alami unggul di data dengan pola spasial eksplisit seperti gambar (misalnya posisi pixel punya makna).\n",
        "\n",
        "- Pada data tabular seperti ini, urutan fitur tidak menjamin ada pola spasial → jadi CNN bisa kurang efektif dibanding MLP.\n",
        "\n",
        "###Kesimpulan:\n",
        "Model CNN Visual berhasil digunakan untuk klasifikasi dengan data tabular yang disusun sebagai input 2D. Namun secara umum, MLP Classification biasanya lebih unggul untuk data tabular. CNN mungkin tidak memberikan keunggulan signifikan kecuali jika fitur memang memiliki korelasi spasial yang kuat."
      ],
      "metadata": {
        "id": "ZKA2DJ69OqtF"
      }
    }
  ]
}