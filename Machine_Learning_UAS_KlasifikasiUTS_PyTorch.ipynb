{
  "nbformat": 4,
  "nbformat_minor": 0,
  "metadata": {
    "colab": {
      "provenance": [],
      "authorship_tag": "ABX9TyOHVzABCln8HXJudjoWC+mc",
      "include_colab_link": true
    },
    "kernelspec": {
      "name": "python3",
      "display_name": "Python 3"
    },
    "language_info": {
      "name": "python"
    }
  },
  "cells": [
    {
      "cell_type": "markdown",
      "metadata": {
        "id": "view-in-github",
        "colab_type": "text"
      },
      "source": [
        "<a href=\"https://colab.research.google.com/github/bintangnabiil/Machine_Learning/blob/main/Machine_Learning_UAS_KlasifikasiUTS_PyTorch.ipynb\" target=\"_parent\"><img src=\"https://colab.research.google.com/assets/colab-badge.svg\" alt=\"Open In Colab\"/></a>"
      ]
    },
    {
      "cell_type": "markdown",
      "source": [
        "##1a. Pengumpulan & Pembersihan Data"
      ],
      "metadata": {
        "id": "q3-9XeM-leb2"
      }
    },
    {
      "cell_type": "code",
      "execution_count": 1,
      "metadata": {
        "id": "rY-pL2GclYxy"
      },
      "outputs": [],
      "source": [
        "import torch\n",
        "import torch.nn as nn\n",
        "import torch.optim as optim\n",
        "from torch.utils.data import Dataset, DataLoader, random_split, TensorDataset\n",
        "import pandas as pd\n",
        "import numpy as np\n",
        "from sklearn.model_selection import train_test_split\n",
        "from sklearn.preprocessing import MinMaxScaler, LabelEncoder\n",
        "from sklearn.metrics import accuracy_score, precision_score, recall_score, f1_score, roc_auc_score, mean_squared_error, r2_score\n",
        "import matplotlib.pyplot as plt\n",
        "\n",
        "# Load data\n",
        "df = pd.read_csv('/content/KlasifikasiUTS.csv')\n",
        "\n",
        "# Target regresi (kolom ke-0)\n",
        "y_reg = df.iloc[:, 0].values.reshape(-1, 1)\n",
        "\n",
        "# Target klasifikasi (kolom terakhir)\n",
        "y_clf = df.iloc[:, -1]\n",
        "\n",
        "# Fitur\n",
        "X = df.iloc[:, 1:-1].values"
      ]
    },
    {
      "cell_type": "markdown",
      "source": [
        "##1b. Feature Engineering"
      ],
      "metadata": {
        "id": "oCQe7nfVlfKF"
      }
    },
    {
      "cell_type": "code",
      "source": [
        "# Normalisasi fitur\n",
        "scaler = MinMaxScaler()\n",
        "X_scaled = scaler.fit_transform(X)\n",
        "\n",
        "# Label Encoding untuk klasifikasi\n",
        "le = LabelEncoder()\n",
        "y_clf_encoded = le.fit_transform(y_clf)"
      ],
      "metadata": {
        "id": "ATOgAjYHlg7w"
      },
      "execution_count": 2,
      "outputs": []
    },
    {
      "cell_type": "code",
      "source": [
        "# Untuk regresi\n",
        "X_train_reg, X_test_reg, y_train_reg, y_test_reg = train_test_split(X_scaled, y_reg, test_size=0.2, random_state=42)\n",
        "\n",
        "# Untuk klasifikasi\n",
        "X_train_clf, X_test_clf, y_train_clf, y_test_clf = train_test_split(X_scaled, y_clf_encoded, test_size=0.2, random_state=42)"
      ],
      "metadata": {
        "id": "3Q30hYD-lkBU"
      },
      "execution_count": 3,
      "outputs": []
    },
    {
      "cell_type": "markdown",
      "source": [
        "##1c. Arsitektur MLP"
      ],
      "metadata": {
        "id": "BfHF0z-Hl-G5"
      }
    },
    {
      "cell_type": "markdown",
      "source": [
        "##A. MLP Regressor (PyTorch)"
      ],
      "metadata": {
        "id": "7z5W1MCEmBUa"
      }
    },
    {
      "cell_type": "code",
      "source": [
        "class MLPRegressor(nn.Module):\n",
        "    def __init__(self, input_dim):\n",
        "        super(MLPRegressor, self).__init__()\n",
        "        self.net = nn.Sequential(\n",
        "            nn.Linear(input_dim, 64),\n",
        "            nn.ReLU(),\n",
        "            nn.Linear(64, 32),\n",
        "            nn.ReLU(),\n",
        "            nn.Linear(32, 1)\n",
        "        )\n",
        "\n",
        "    def forward(self, x):\n",
        "        return self.net(x)"
      ],
      "metadata": {
        "id": "HJYusO7wmBB3"
      },
      "execution_count": 4,
      "outputs": []
    },
    {
      "cell_type": "code",
      "source": [
        "# Convert data ke tensor\n",
        "X_train_tensor = torch.tensor(X_train_reg, dtype=torch.float32)\n",
        "y_train_tensor = torch.tensor(y_train_reg, dtype=torch.float32)\n",
        "\n",
        "X_test_tensor = torch.tensor(X_test_reg, dtype=torch.float32)\n",
        "y_test_tensor = torch.tensor(y_test_reg, dtype=torch.float32)\n",
        "\n",
        "train_dataset = TensorDataset(X_train_tensor, y_train_tensor)\n",
        "train_loader = DataLoader(train_dataset, batch_size=32, shuffle=True)"
      ],
      "metadata": {
        "id": "W3C4pAGKmOoh"
      },
      "execution_count": 5,
      "outputs": []
    },
    {
      "cell_type": "markdown",
      "source": [
        "###Training Loop"
      ],
      "metadata": {
        "id": "2L4TUGTxmWPq"
      }
    },
    {
      "cell_type": "code",
      "source": [
        "model = MLPRegressor(input_dim=X_train_tensor.shape[1])\n",
        "criterion = nn.MSELoss()\n",
        "optimizer = optim.Adam(model.parameters(), lr=0.001)\n",
        "\n",
        "# Training loop\n",
        "for epoch in range(100):\n",
        "    model.train()\n",
        "    for x_batch, y_batch in train_loader:\n",
        "        output = model(x_batch)\n",
        "        loss = criterion(output, y_batch)\n",
        "        optimizer.zero_grad()\n",
        "        loss.backward()\n",
        "        optimizer.step()"
      ],
      "metadata": {
        "id": "bOVFZCaDmPzr"
      },
      "execution_count": 6,
      "outputs": []
    },
    {
      "cell_type": "markdown",
      "source": [
        "###Evaluasi Regressor"
      ],
      "metadata": {
        "id": "JfxHi2w5mZni"
      }
    },
    {
      "cell_type": "code",
      "source": [
        "model.eval()\n",
        "with torch.no_grad():\n",
        "    pred = model(X_test_tensor).numpy()\n",
        "\n",
        "mse = mean_squared_error(y_test_reg, pred)\n",
        "rmse = np.sqrt(mse)\n",
        "r2 = r2_score(y_test_reg, pred)\n",
        "\n",
        "print(f\"MLP Regressor - MSE: {mse:.4f}, RMSE: {rmse:.4f}, R²: {r2:.4f}\")"
      ],
      "metadata": {
        "colab": {
          "base_uri": "https://localhost:8080/"
        },
        "id": "Z_gU7AUWmbNQ",
        "outputId": "79416553-e118-4a9e-9556-2b51eae1fd33"
      },
      "execution_count": 7,
      "outputs": [
        {
          "output_type": "stream",
          "name": "stdout",
          "text": [
            "MLP Regressor - MSE: 980764772.3554, RMSE: 31317.1642, R²: 0.5651\n"
          ]
        }
      ]
    },
    {
      "cell_type": "markdown",
      "source": [
        "##B. MLP Classifier (PyTorch)"
      ],
      "metadata": {
        "id": "x7skzbaFrZ2h"
      }
    },
    {
      "cell_type": "code",
      "source": [
        "class MLPClassifier(nn.Module):\n",
        "    def __init__(self, input_dim, num_classes):\n",
        "        super(MLPClassifier, self).__init__()\n",
        "        self.net = nn.Sequential(\n",
        "            nn.Linear(input_dim, 64),\n",
        "            nn.ReLU(),\n",
        "            nn.Linear(64, 32),\n",
        "            nn.ReLU(),\n",
        "            nn.Linear(32, num_classes)\n",
        "        )\n",
        "\n",
        "    def forward(self, x):\n",
        "        return self.net(x)"
      ],
      "metadata": {
        "id": "SiqOA5OdrcYZ"
      },
      "execution_count": 8,
      "outputs": []
    },
    {
      "cell_type": "code",
      "source": [
        "# Data tensor\n",
        "X_train_tensor = torch.tensor(X_train_clf, dtype=torch.float32)\n",
        "y_train_tensor = torch.tensor(y_train_clf, dtype=torch.long)\n",
        "\n",
        "X_test_tensor = torch.tensor(X_test_clf, dtype=torch.float32)\n",
        "y_test_tensor = torch.tensor(y_test_clf, dtype=torch.long)\n",
        "\n",
        "train_dataset = TensorDataset(X_train_tensor, y_train_tensor)\n",
        "train_loader = DataLoader(train_dataset, batch_size=32, shuffle=True)"
      ],
      "metadata": {
        "id": "zArAh3PUre7g"
      },
      "execution_count": 9,
      "outputs": []
    },
    {
      "cell_type": "markdown",
      "source": [
        "###Training Loop"
      ],
      "metadata": {
        "id": "8sCoYzNerjSG"
      }
    },
    {
      "cell_type": "code",
      "source": [
        "num_classes = len(np.unique(y_train_clf))\n",
        "model = MLPClassifier(input_dim=X_train_tensor.shape[1], num_classes=num_classes)\n",
        "criterion = nn.CrossEntropyLoss()\n",
        "optimizer = optim.Adam(model.parameters(), lr=0.001)\n",
        "\n",
        "# Training loop\n",
        "for epoch in range(100):\n",
        "    model.train()\n",
        "    for x_batch, y_batch in train_loader:\n",
        "        output = model(x_batch)\n",
        "        loss = criterion(output, y_batch)\n",
        "        optimizer.zero_grad()\n",
        "        loss.backward()\n",
        "        optimizer.step()"
      ],
      "metadata": {
        "id": "fGdBSJ9brgLt"
      },
      "execution_count": 10,
      "outputs": []
    },
    {
      "cell_type": "markdown",
      "source": [
        "###Evaluasi Classifier"
      ],
      "metadata": {
        "id": "ieUjZegbrnvn"
      }
    },
    {
      "cell_type": "code",
      "source": [
        "from sklearn.metrics import accuracy_score, precision_score, recall_score, f1_score, roc_auc_score\n",
        "import torch.nn.functional as F\n",
        "\n",
        "# Prediksi logits (output langsung dari model sebelum softmax)\n",
        "logits = model(X_test_tensor)\n",
        "\n",
        "# Probabilitas prediksi (softmax ke axis kelas)\n",
        "probs = F.softmax(logits, dim=1).detach().cpu().numpy()\n",
        "\n",
        "# Kelas prediksi\n",
        "preds = probs.argmax(axis=1)\n",
        "\n",
        "# Ground truth (pastikan sudah bentuk 1D array biasa, bukan tensor)\n",
        "y_true = y_test_clf if isinstance(y_test_clf, np.ndarray) else y_test_clf.numpy()\n",
        "\n",
        "# Evaluasi\n",
        "acc = accuracy_score(y_true, preds)\n",
        "prec = precision_score(y_true, preds, average='weighted', zero_division=0)\n",
        "rec = recall_score(y_true, preds, average='weighted', zero_division=0)\n",
        "f1 = f1_score(y_true, preds, average='weighted', zero_division=0)\n",
        "\n",
        "# AUC hanya bisa dihitung jika jumlah kelas >= 2 dan probabilitas valid\n",
        "try:\n",
        "    if probs.shape[1] == 2:\n",
        "        roc = roc_auc_score(y_true, probs[:, 1])\n",
        "    else:\n",
        "        roc = roc_auc_score(y_true, probs, multi_class='ovr')\n",
        "except ValueError as e:\n",
        "    roc = float('nan')\n",
        "    print(f\"Warning: AUC couldn't be calculated — {e}\")\n",
        "\n",
        "# Output\n",
        "print(f\"MLP Classifier - Accuracy: {acc:.4f}, Precision: {prec:.4f}, Recall: {rec:.4f}, F1-Score: {f1:.4f}, AUC: {roc:.4f}\")"
      ],
      "metadata": {
        "colab": {
          "base_uri": "https://localhost:8080/"
        },
        "id": "E9QD0wFXrqLI",
        "outputId": "4672ea25-0a2f-415f-fafa-ac43b13c0137"
      },
      "execution_count": 19,
      "outputs": [
        {
          "output_type": "stream",
          "name": "stdout",
          "text": [
            "MLP Classifier - Accuracy: 0.9994, Precision: 0.9993, Recall: 0.9994, F1-Score: 0.9994, AUC: 0.9838\n"
          ]
        }
      ]
    },
    {
      "cell_type": "markdown",
      "source": [
        "##C. CNN Classifier (PyTorch)"
      ],
      "metadata": {
        "id": "9GMoestorsvI"
      }
    },
    {
      "cell_type": "markdown",
      "source": [
        "###Persiapan Data"
      ],
      "metadata": {
        "id": "YgiYMTaHr13d"
      }
    },
    {
      "cell_type": "code",
      "source": [
        "print(X_train_clf.shape)"
      ],
      "metadata": {
        "colab": {
          "base_uri": "https://localhost:8080/"
        },
        "id": "OAg_ShLOxszl",
        "outputId": "9003dbfb-b7b0-4dde-b302-97bf3d15580b"
      },
      "execution_count": 16,
      "outputs": [
        {
          "output_type": "stream",
          "name": "stdout",
          "text": [
            "(227845, 29)\n"
          ]
        }
      ]
    },
    {
      "cell_type": "code",
      "source": [
        "import numpy as np\n",
        "import torch\n",
        "\n",
        "# Cek jumlah fitur agar tahu bentuk yang bisa digunakan\n",
        "n_features = X_train_clf.shape[1]\n",
        "print(f\"Jumlah fitur: {n_features}\")"
      ],
      "metadata": {
        "colab": {
          "base_uri": "https://localhost:8080/"
        },
        "id": "DpmV3tvrx4og",
        "outputId": "71661c53-ab5c-4ee9-848b-9b63af0cb100"
      },
      "execution_count": 20,
      "outputs": [
        {
          "output_type": "stream",
          "name": "stdout",
          "text": [
            "Jumlah fitur: 29\n"
          ]
        }
      ]
    },
    {
      "cell_type": "code",
      "source": [
        "import torch\n",
        "\n",
        "# Ambil 25 fitur pertama agar bisa jadi 5x5\n",
        "X_train_crop = X_train_clf[:, :25]\n",
        "X_test_crop = X_test_clf[:, :25]\n",
        "\n",
        "# Ubah ke (batch_size, channel=1, height=5, width=5)\n",
        "X_train_cnn = X_train_crop.reshape(-1, 1, 5, 5)\n",
        "X_test_cnn = X_test_crop.reshape(-1, 1, 5, 5)\n",
        "\n",
        "# Konversi ke tensor PyTorch\n",
        "X_train_tensor = torch.tensor(X_train_cnn, dtype=torch.float32)\n",
        "X_test_tensor = torch.tensor(X_test_cnn, dtype=torch.float32)\n",
        "\n",
        "y_train_tensor = torch.tensor(y_train_clf, dtype=torch.long)\n",
        "y_test_tensor = torch.tensor(y_test_clf, dtype=torch.long)\n",
        "\n",
        "# DataLoader\n",
        "train_dataset = TensorDataset(X_train_tensor, y_train_tensor)\n",
        "test_dataset = TensorDataset(X_test_tensor, y_test_tensor)\n",
        "\n",
        "train_loader = DataLoader(train_dataset, batch_size=32, shuffle=True)\n",
        "test_loader = DataLoader(test_dataset, batch_size=32)"
      ],
      "metadata": {
        "id": "Gx3Jv9_sruiV"
      },
      "execution_count": 30,
      "outputs": []
    },
    {
      "cell_type": "code",
      "source": [
        "class CNNClassifier(nn.Module):\n",
        "    def __init__(self, num_classes):\n",
        "        super(CNNClassifier, self).__init__()\n",
        "        self.conv1 = nn.Conv2d(1, 16, kernel_size=3, padding=1)  # Output: 16x5x5\n",
        "        self.pool = nn.MaxPool2d(2, 2)                           # Output: 16x2x2\n",
        "        self.fc1 = nn.Linear(16 * 2 * 2, num_classes)\n",
        "\n",
        "    def forward(self, x):\n",
        "        x = self.pool(torch.relu(self.conv1(x)))  # (batch_size, 16, 2, 2)\n",
        "        x = x.view(x.size(0), -1)                 # Flatten ke (batch_size, 64)\n",
        "        x = self.fc1(x)\n",
        "        return x"
      ],
      "metadata": {
        "id": "YNEAJbKwr7fM"
      },
      "execution_count": 31,
      "outputs": []
    },
    {
      "cell_type": "markdown",
      "source": [
        "###Training"
      ],
      "metadata": {
        "id": "V2AC04ycr-7m"
      }
    },
    {
      "cell_type": "code",
      "source": [
        "import torch.nn as nn\n",
        "import torch.optim as optim\n",
        "\n",
        "model = CNNClassifier(num_classes=num_classes)\n",
        "criterion = nn.CrossEntropyLoss()\n",
        "optimizer = torch.optim.Adam(model.parameters(), lr=0.001)\n",
        "\n",
        "for epoch in range(50):\n",
        "    model.train()\n",
        "    running_loss = 0.0\n",
        "\n",
        "    for x_batch, y_batch in train_loader:\n",
        "        x_batch = x_batch.float()\n",
        "        y_batch = y_batch.long()\n",
        "\n",
        "        output = model(x_batch)\n",
        "        loss = criterion(output, y_batch)\n",
        "\n",
        "        optimizer.zero_grad()\n",
        "        loss.backward()\n",
        "        optimizer.step()\n",
        "\n",
        "        running_loss += loss.item()\n",
        "\n",
        "    print(f\"Epoch {epoch+1}/50, Loss: {running_loss/len(train_loader):.4f}\")"
      ],
      "metadata": {
        "colab": {
          "base_uri": "https://localhost:8080/"
        },
        "id": "LQ49yl_usAGM",
        "outputId": "e65ac568-da53-4f76-cc1d-cb5eb5d61178"
      },
      "execution_count": 32,
      "outputs": [
        {
          "output_type": "stream",
          "name": "stdout",
          "text": [
            "Epoch 1/50, Loss: 0.0098\n",
            "Epoch 2/50, Loss: 0.0043\n",
            "Epoch 3/50, Loss: 0.0038\n",
            "Epoch 4/50, Loss: 0.0035\n",
            "Epoch 5/50, Loss: 0.0034\n",
            "Epoch 6/50, Loss: 0.0033\n",
            "Epoch 7/50, Loss: 0.0033\n",
            "Epoch 8/50, Loss: 0.0032\n",
            "Epoch 9/50, Loss: 0.0032\n",
            "Epoch 10/50, Loss: 0.0032\n",
            "Epoch 11/50, Loss: 0.0031\n",
            "Epoch 12/50, Loss: 0.0031\n",
            "Epoch 13/50, Loss: 0.0031\n",
            "Epoch 14/50, Loss: 0.0031\n",
            "Epoch 15/50, Loss: 0.0031\n",
            "Epoch 16/50, Loss: 0.0031\n",
            "Epoch 17/50, Loss: 0.0030\n",
            "Epoch 18/50, Loss: 0.0030\n",
            "Epoch 19/50, Loss: 0.0030\n",
            "Epoch 20/50, Loss: 0.0030\n",
            "Epoch 21/50, Loss: 0.0030\n",
            "Epoch 22/50, Loss: 0.0029\n",
            "Epoch 23/50, Loss: 0.0030\n",
            "Epoch 24/50, Loss: 0.0029\n",
            "Epoch 25/50, Loss: 0.0030\n",
            "Epoch 26/50, Loss: 0.0030\n",
            "Epoch 27/50, Loss: 0.0029\n",
            "Epoch 28/50, Loss: 0.0029\n",
            "Epoch 29/50, Loss: 0.0030\n",
            "Epoch 30/50, Loss: 0.0029\n",
            "Epoch 31/50, Loss: 0.0029\n",
            "Epoch 32/50, Loss: 0.0030\n",
            "Epoch 33/50, Loss: 0.0029\n",
            "Epoch 34/50, Loss: 0.0029\n",
            "Epoch 35/50, Loss: 0.0029\n",
            "Epoch 36/50, Loss: 0.0029\n",
            "Epoch 37/50, Loss: 0.0029\n",
            "Epoch 38/50, Loss: 0.0029\n",
            "Epoch 39/50, Loss: 0.0029\n",
            "Epoch 40/50, Loss: 0.0029\n",
            "Epoch 41/50, Loss: 0.0029\n",
            "Epoch 42/50, Loss: 0.0029\n",
            "Epoch 43/50, Loss: 0.0029\n",
            "Epoch 44/50, Loss: 0.0029\n",
            "Epoch 45/50, Loss: 0.0029\n",
            "Epoch 46/50, Loss: 0.0029\n",
            "Epoch 47/50, Loss: 0.0029\n",
            "Epoch 48/50, Loss: 0.0029\n",
            "Epoch 49/50, Loss: 0.0029\n",
            "Epoch 50/50, Loss: 0.0029\n"
          ]
        }
      ]
    },
    {
      "cell_type": "markdown",
      "source": [
        "###Evaluasi CNN"
      ],
      "metadata": {
        "id": "MomuMMDFsBib"
      }
    },
    {
      "cell_type": "code",
      "source": [
        "print(\"Unique labels in y_test_clf:\", np.unique(y_test_clf))\n",
        "print(\"Shape of probs (model output):\", probs.shape)\n",
        "print(\"Shape of y_test_bin:\", y_test_bin.shape)"
      ],
      "metadata": {
        "colab": {
          "base_uri": "https://localhost:8080/"
        },
        "id": "WJ88jVN53X7m",
        "outputId": "de543c3c-dd14-4648-c37e-2bc88b8b0315"
      },
      "execution_count": 36,
      "outputs": [
        {
          "output_type": "stream",
          "name": "stdout",
          "text": [
            "Unique labels in y_test_clf: [0 1]\n",
            "Shape of probs (model output): (56962, 2)\n",
            "Shape of y_test_bin: (56962, 1)\n"
          ]
        }
      ]
    },
    {
      "cell_type": "code",
      "source": [
        "from sklearn.preprocessing import label_binarize\n",
        "\n",
        "model.eval()\n",
        "with torch.no_grad():\n",
        "    logits = model(X_test_tensor)\n",
        "    probs = nn.functional.softmax(logits, dim=1).numpy()\n",
        "    preds = np.argmax(probs, axis=1)\n",
        "\n",
        "# Hitung metrik klasifikasi\n",
        "acc = accuracy_score(y_test_clf, preds)\n",
        "prec = precision_score(y_test_clf, preds, average='weighted')\n",
        "rec = recall_score(y_test_clf, preds, average='weighted')\n",
        "f1 = f1_score(y_test_clf, preds, average='weighted')\n",
        "\n",
        "# Dapatkan jumlah kelas dari model output\n",
        "n_classes = probs.shape[1]\n",
        "class_list = list(range(n_classes))  # [0, 1, 2, ..., n_classes-1]\n",
        "\n",
        "# Paksa y_test_clf dibinarisasi dengan semua kelas (meskipun y_test_clf tidak mengandung semuanya)\n",
        "y_test_bin = label_binarize(y_test_clf, classes=class_list)\n",
        "\n",
        "# Jika y_test_bin.shape tidak cocok, tambahkan kolom dummy\n",
        "if y_test_bin.shape[1] < n_classes:\n",
        "    diff = n_classes - y_test_bin.shape[1]\n",
        "    padding = np.zeros((y_test_bin.shape[0], diff))\n",
        "    y_test_bin = np.hstack([y_test_bin, padding])\n",
        "\n",
        "# Hitung ROC AUC\n",
        "roc = roc_auc_score(y_test_bin, probs, multi_class='ovr')\n",
        "\n",
        "print(f\"CNN Classifier - Accuracy: {acc:.4f}, Precision: {prec:.4f}, Recall: {rec:.4f}, F1-Score: {f1:.4f}, AUC: {roc:.4f}\")"
      ],
      "metadata": {
        "colab": {
          "base_uri": "https://localhost:8080/"
        },
        "id": "ycnRghsEsCbm",
        "outputId": "acafc3bd-dcca-405c-edb1-aa2677d18dec"
      },
      "execution_count": 37,
      "outputs": [
        {
          "output_type": "stream",
          "name": "stdout",
          "text": [
            "CNN Classifier - Accuracy: 0.9995, Precision: 0.9994, Recall: 0.9995, F1-Score: 0.9994, AUC: nan\n"
          ]
        },
        {
          "output_type": "stream",
          "name": "stderr",
          "text": [
            "/usr/local/lib/python3.11/dist-packages/sklearn/metrics/_ranking.py:379: UndefinedMetricWarning: Only one class is present in y_true. ROC AUC score is not defined in that case.\n",
            "  warnings.warn(\n"
          ]
        }
      ]
    }
  ]
}