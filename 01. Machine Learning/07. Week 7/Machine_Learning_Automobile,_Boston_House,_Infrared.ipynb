{
  "nbformat": 4,
  "nbformat_minor": 0,
  "metadata": {
    "colab": {
      "provenance": [],
      "authorship_tag": "ABX9TyPjQ2fETmb4zcqU47VAP4St",
      "include_colab_link": true
    },
    "kernelspec": {
      "name": "python3",
      "display_name": "Python 3"
    },
    "language_info": {
      "name": "python"
    }
  },
  "cells": [
    {
      "cell_type": "markdown",
      "metadata": {
        "id": "view-in-github",
        "colab_type": "text"
      },
      "source": [
        "<a href=\"https://colab.research.google.com/github/bintangnabiil/Machine_Learning/blob/main/Machine_Learning_Automobile%2C_Boston_House%2C_Infrared.ipynb\" target=\"_parent\"><img src=\"https://colab.research.google.com/assets/colab-badge.svg\" alt=\"Open In Colab\"/></a>"
      ]
    },
    {
      "cell_type": "markdown",
      "source": [
        "#A. Automobile Dataset"
      ],
      "metadata": {
        "id": "b1nEB_X9PkKV"
      }
    },
    {
      "cell_type": "markdown",
      "source": [
        "##1) Import Library dan Load Dataset"
      ],
      "metadata": {
        "id": "hEiYwNh0PoSy"
      }
    },
    {
      "cell_type": "code",
      "execution_count": 5,
      "metadata": {
        "id": "6O5-Ua4MPZbU"
      },
      "outputs": [],
      "source": [
        "import pandas as pd\n",
        "import numpy as np\n",
        "from sklearn.model_selection import train_test_split\n",
        "from sklearn.ensemble import RandomForestRegressor, GradientBoostingRegressor\n",
        "from sklearn.metrics import mean_squared_error, r2_score\n",
        "from sklearn.impute import SimpleImputer\n",
        "from sklearn.preprocessing import LabelEncoder\n",
        "\n",
        "\n",
        "df = pd.read_csv('Automobile.csv')"
      ]
    },
    {
      "cell_type": "markdown",
      "source": [
        "##2) Preprocessing"
      ],
      "metadata": {
        "id": "Nb_JurVxP0yP"
      }
    },
    {
      "cell_type": "code",
      "source": [
        "# Ganti ? dengan NaN\n",
        "df.replace('?', np.nan, inplace=True)\n",
        "\n",
        "# Ubah semua kolom numerik menjadi float jika memungkinkan\n",
        "for col in df.columns:\n",
        "    try:\n",
        "        df[col] = df[col].astype(float)\n",
        "    except:\n",
        "        pass\n",
        "\n",
        "# Pisahkan fitur numerik dan kategorikal\n",
        "numeric_cols = df.select_dtypes(include=[np.number]).columns.tolist()\n",
        "categorical_cols = df.select_dtypes(exclude=[np.number]).columns.tolist()\n",
        "\n",
        "# Imputasi nilai numerik dengan median\n",
        "imputer = SimpleImputer(strategy='median')\n",
        "df[numeric_cols] = imputer.fit_transform(df[numeric_cols])\n",
        "\n",
        "# Encode kolom kategorikal\n",
        "for col in categorical_cols:\n",
        "    df[col] = LabelEncoder().fit_transform(df[col].astype(str))\n",
        "\n",
        "# Gabungkan semua kembali\n",
        "X = df.drop(columns=['price'])  # Target: price\n",
        "y = df['price']\n",
        "\n",
        "# Buang baris dengan target kosong\n",
        "X = X[y.notna()]\n",
        "y = y[y.notna()]"
      ],
      "metadata": {
        "id": "zCC-hXjgP2fO"
      },
      "execution_count": 6,
      "outputs": []
    },
    {
      "cell_type": "markdown",
      "source": [
        "##3) Split Data"
      ],
      "metadata": {
        "id": "tZtZ0uHOP-2K"
      }
    },
    {
      "cell_type": "code",
      "source": [
        "X_train, X_test, y_train, y_test = train_test_split(X, y, test_size=0.2, random_state=42)"
      ],
      "metadata": {
        "id": "btSs8bfnQDhr"
      },
      "execution_count": 7,
      "outputs": []
    },
    {
      "cell_type": "markdown",
      "source": [
        "##4) Bagging"
      ],
      "metadata": {
        "id": "Lb6Rptb1QH28"
      }
    },
    {
      "cell_type": "code",
      "source": [
        "bagging_model = RandomForestRegressor(random_state=42)\n",
        "bagging_model.fit(X_train, y_train)\n",
        "y_pred_bagging = bagging_model.predict(X_test)"
      ],
      "metadata": {
        "id": "_DRVrOeCQJ0M"
      },
      "execution_count": 8,
      "outputs": []
    },
    {
      "cell_type": "markdown",
      "source": [
        "##5) Boosting"
      ],
      "metadata": {
        "id": "7gEnU-TEQRjj"
      }
    },
    {
      "cell_type": "code",
      "source": [
        "boosting_model = GradientBoostingRegressor(random_state=42)\n",
        "boosting_model.fit(X_train, y_train)\n",
        "y_pred_boosting = boosting_model.predict(X_test)"
      ],
      "metadata": {
        "id": "xg_u7WUhQSxE"
      },
      "execution_count": 9,
      "outputs": []
    },
    {
      "cell_type": "markdown",
      "source": [
        "##6) Evaluasi Matriks"
      ],
      "metadata": {
        "id": "zvSD4kcLQVri"
      }
    },
    {
      "cell_type": "code",
      "source": [
        "# === Evaluasi Model Bagging ===\n",
        "mse_bagging = mean_squared_error(y_test, y_pred_bagging)\n",
        "rmse_bagging = np.sqrt(mse_bagging)\n",
        "r2_bagging = r2_score(y_test, y_pred_bagging)\n",
        "\n",
        "print(\"=== Bagging (Random Forest) Evaluation ===\")\n",
        "print(f\"MSE  : {mse_bagging:.2f}\")\n",
        "print(f\"RMSE : {rmse_bagging:.2f}\")\n",
        "print(f\"R2   : {r2_bagging:.2f}\")\n",
        "\n",
        "# === Evaluasi Model Boosting ===\n",
        "mse_boosting = mean_squared_error(y_test, y_pred_boosting)\n",
        "rmse_boosting = np.sqrt(mse_boosting)\n",
        "r2_boosting = r2_score(y_test, y_pred_boosting)\n",
        "\n",
        "print(\"\\n=== Boosting (Gradient Boosting) Evaluation ===\")\n",
        "print(f\"MSE  : {mse_boosting:.2f}\")\n",
        "print(f\"RMSE : {rmse_boosting:.2f}\")\n",
        "print(f\"R2   : {r2_boosting:.2f}\")"
      ],
      "metadata": {
        "colab": {
          "base_uri": "https://localhost:8080/"
        },
        "id": "0k5yxaLDQbCL",
        "outputId": "9bffbd38-5318-4d1a-82f8-9af0dbc3bcc3"
      },
      "execution_count": 10,
      "outputs": [
        {
          "output_type": "stream",
          "name": "stdout",
          "text": [
            "=== Bagging (Random Forest) Evaluation ===\n",
            "MSE  : 6346203.87\n",
            "RMSE : 2519.17\n",
            "R2   : 0.92\n",
            "\n",
            "=== Boosting (Gradient Boosting) Evaluation ===\n",
            "MSE  : 7170602.17\n",
            "RMSE : 2677.80\n",
            "R2   : 0.91\n"
          ]
        }
      ]
    },
    {
      "cell_type": "markdown",
      "source": [
        "#B. Boston House Dataset"
      ],
      "metadata": {
        "id": "Ap53hsXvQu_t"
      }
    },
    {
      "cell_type": "markdown",
      "source": [
        "##1) Import Library"
      ],
      "metadata": {
        "id": "8jsTZ4r_QxuJ"
      }
    },
    {
      "cell_type": "code",
      "source": [
        "import pandas as pd\n",
        "import numpy as np\n",
        "from sklearn.model_selection import train_test_split\n",
        "from sklearn.ensemble import RandomForestRegressor, GradientBoostingRegressor\n",
        "from sklearn.metrics import mean_squared_error, r2_score"
      ],
      "metadata": {
        "id": "MEePGWBhQw9c"
      },
      "execution_count": 12,
      "outputs": []
    },
    {
      "cell_type": "markdown",
      "source": [
        "##2) Load Boston House Dataset"
      ],
      "metadata": {
        "id": "HQb9bqbxRJnP"
      }
    },
    {
      "cell_type": "code",
      "source": [
        "url = \"http://lib.stat.cmu.edu/datasets/boston\"\n",
        "raw_df = pd.read_csv(url, sep=\"\\s+\", skiprows=22, header=None)"
      ],
      "metadata": {
        "id": "Oe5nS88jRPH9"
      },
      "execution_count": 13,
      "outputs": []
    },
    {
      "cell_type": "markdown",
      "source": [
        "##3) Parse Dataset Structure"
      ],
      "metadata": {
        "id": "QFljXqDMRR2r"
      }
    },
    {
      "cell_type": "code",
      "source": [
        "data = np.hstack([raw_df.values[::2, :], raw_df.values[1::2, :2]])\n",
        "target = raw_df.values[1::2, 2]"
      ],
      "metadata": {
        "id": "2XmJSSfcRelQ"
      },
      "execution_count": 14,
      "outputs": []
    },
    {
      "cell_type": "markdown",
      "source": [
        "##4) Split Data"
      ],
      "metadata": {
        "id": "uo8oHN9IRhC_"
      }
    },
    {
      "cell_type": "code",
      "source": [
        "X_train, X_test, y_train, y_test = train_test_split(data, target, test_size=0.2, random_state=42)"
      ],
      "metadata": {
        "id": "rJvrXSlTRir3"
      },
      "execution_count": 15,
      "outputs": []
    },
    {
      "cell_type": "markdown",
      "source": [
        "##5) Bagging"
      ],
      "metadata": {
        "id": "qoQ_gghpRkA2"
      }
    },
    {
      "cell_type": "code",
      "source": [
        "bagging_model = RandomForestRegressor(random_state=42)\n",
        "bagging_model.fit(X_train, y_train)\n",
        "y_pred_bagging = bagging_model.predict(X_test)"
      ],
      "metadata": {
        "id": "oQL8BFE4Rmp4"
      },
      "execution_count": 16,
      "outputs": []
    },
    {
      "cell_type": "markdown",
      "source": [
        "##6) Boosting"
      ],
      "metadata": {
        "id": "d0Ahtm9uRoF9"
      }
    },
    {
      "cell_type": "code",
      "source": [
        "boosting_model = GradientBoostingRegressor(random_state=42)\n",
        "boosting_model.fit(X_train, y_train)\n",
        "y_pred_boosting = boosting_model.predict(X_test)"
      ],
      "metadata": {
        "id": "qn8Cti75RpfU"
      },
      "execution_count": 17,
      "outputs": []
    },
    {
      "cell_type": "markdown",
      "source": [
        "##7) Evaluasi Matriks"
      ],
      "metadata": {
        "id": "whRVRKPqRq2X"
      }
    },
    {
      "cell_type": "code",
      "source": [
        "# === Evaluasi Bagging: Random Forest ===\n",
        "mse_bagging = mean_squared_error(y_test, y_pred_bagging)\n",
        "rmse_bagging = np.sqrt(mse_bagging)\n",
        "r2_bagging = r2_score(y_test, y_pred_bagging)\n",
        "\n",
        "print(\"=== Evaluasi Bagging (Random Forest) ===\")\n",
        "print(\"MSE     :\", mse_bagging)\n",
        "print(\"RMSE    :\", rmse_bagging)\n",
        "print(\"R2 Score:\", r2_bagging)\n",
        "\n",
        "# === Evaluasi Boosting: Gradient Boosting ===\n",
        "mse_boosting = mean_squared_error(y_test, y_pred_boosting)\n",
        "rmse_boosting = np.sqrt(mse_boosting)\n",
        "r2_boosting = r2_score(y_test, y_pred_boosting)\n",
        "\n",
        "print(\"\\n=== Evaluasi Boosting (Gradient Boosting) ===\")\n",
        "print(\"MSE     :\", mse_boosting)\n",
        "print(\"RMSE    :\", rmse_boosting)\n",
        "print(\"R2 Score:\", r2_boosting)"
      ],
      "metadata": {
        "colab": {
          "base_uri": "https://localhost:8080/"
        },
        "id": "DQpWrxLqRyO-",
        "outputId": "e098c742-6b74-4203-e4eb-315a8baf4d0e"
      },
      "execution_count": 19,
      "outputs": [
        {
          "output_type": "stream",
          "name": "stdout",
          "text": [
            "=== Evaluasi Bagging (Random Forest) ===\n",
            "MSE     : 7.901513892156864\n",
            "RMSE    : 2.8109631609391226\n",
            "R2 Score: 0.8922527442109116\n",
            "\n",
            "=== Evaluasi Boosting (Gradient Boosting) ===\n",
            "MSE     : 6.208861361528038\n",
            "RMSE    : 2.491758688462436\n",
            "R2 Score: 0.9153342280466539\n"
          ]
        }
      ]
    },
    {
      "cell_type": "markdown",
      "source": [
        "#C. Infrared"
      ],
      "metadata": {
        "id": "3MB-VcmoSMgQ"
      }
    },
    {
      "cell_type": "markdown",
      "source": [
        "##1) Import Library"
      ],
      "metadata": {
        "id": "8jsABw_ESO7P"
      }
    },
    {
      "cell_type": "code",
      "source": [
        "from sklearn.preprocessing import LabelEncoder\n",
        "from sklearn.impute import SimpleImputer\n",
        "from sklearn.model_selection import train_test_split\n",
        "from sklearn.ensemble import RandomForestRegressor, GradientBoostingRegressor\n",
        "import pandas as pd"
      ],
      "metadata": {
        "id": "8hFnbekuR0zg"
      },
      "execution_count": 1,
      "outputs": []
    },
    {
      "cell_type": "markdown",
      "source": [
        "##2) Load Dataset dan Preprocessing"
      ],
      "metadata": {
        "id": "4oHk_Oz6SVHI"
      }
    },
    {
      "cell_type": "code",
      "source": [
        "# === Load dataset ===\n",
        "df = pd.read_csv('Infrared.csv')\n",
        "\n",
        "# === Encode semua kolom kategorikal (string) jadi numerik ===\n",
        "label_encoders = {}\n",
        "for col in df.select_dtypes(include='object').columns:\n",
        "    le = LabelEncoder()\n",
        "    df[col] = le.fit_transform(df[col].astype(str))\n",
        "    label_encoders[col] = le  # disimpan jika nanti ingin inverse_transform\n",
        "\n",
        "# === Imputasi nilai NaN setelah semua kolom sudah numerik ===\n",
        "imputer = SimpleImputer(strategy='median')\n",
        "df_imputed = pd.DataFrame(imputer.fit_transform(df), columns=df.columns)"
      ],
      "metadata": {
        "id": "ZpFYtnp8SYLz"
      },
      "execution_count": 3,
      "outputs": []
    },
    {
      "cell_type": "markdown",
      "source": [
        "##3) Pisah Fitur dan Target"
      ],
      "metadata": {
        "id": "_1XMi1J8Sak-"
      }
    },
    {
      "cell_type": "code",
      "source": [
        "X = df_imputed.drop(columns=['aveOralM'])\n",
        "y = df_imputed['aveOralM']"
      ],
      "metadata": {
        "id": "eu_ViDLnSaBj"
      },
      "execution_count": 5,
      "outputs": []
    },
    {
      "cell_type": "markdown",
      "source": [
        "##4) Train-Test Split"
      ],
      "metadata": {
        "id": "sL6W0xO3SfPF"
      }
    },
    {
      "cell_type": "code",
      "source": [
        "X_train, X_test, y_train, y_test = train_test_split(X, y, test_size=0.2, random_state=42)\n"
      ],
      "metadata": {
        "id": "dejV9WgwShbb"
      },
      "execution_count": 6,
      "outputs": []
    },
    {
      "cell_type": "markdown",
      "source": [
        "##5) Bagging"
      ],
      "metadata": {
        "id": "Zy6YP_pRSjaG"
      }
    },
    {
      "cell_type": "code",
      "source": [
        "bagging_model = RandomForestRegressor(random_state=42)\n",
        "bagging_model.fit(X_train, y_train)\n",
        "y_pred_bagging = bagging_model.predict(X_test)"
      ],
      "metadata": {
        "id": "VFHGcapSSkWJ"
      },
      "execution_count": 7,
      "outputs": []
    },
    {
      "cell_type": "markdown",
      "source": [
        "##6) Boosting"
      ],
      "metadata": {
        "id": "uRTAFt5mSljB"
      }
    },
    {
      "cell_type": "code",
      "source": [
        "boosting_model = GradientBoostingRegressor(random_state=42)\n",
        "boosting_model.fit(X_train, y_train)\n",
        "y_pred_boosting = boosting_model.predict(X_test)"
      ],
      "metadata": {
        "id": "F9B63Z_vSmi3"
      },
      "execution_count": 8,
      "outputs": []
    },
    {
      "cell_type": "markdown",
      "source": [
        "##7) Evaluasi Matriks"
      ],
      "metadata": {
        "id": "dRJYe2jRgbUd"
      }
    },
    {
      "cell_type": "code",
      "source": [
        "from sklearn.metrics import mean_squared_error, r2_score\n",
        "import numpy as np\n",
        "\n",
        "# === Evaluasi Bagging (Random Forest) ===\n",
        "mse_bagging = mean_squared_error(y_test, y_pred_bagging)\n",
        "rmse_bagging = np.sqrt(mse_bagging)\n",
        "r2_bagging = r2_score(y_test, y_pred_bagging)\n",
        "\n",
        "print(\"=== Random Forest Regressor (Bagging) ===\")\n",
        "print(f\"MSE  : {mse_bagging:.4f}\")\n",
        "print(f\"RMSE : {rmse_bagging:.4f}\")\n",
        "print(f\"R²   : {r2_bagging:.4f}\")\n",
        "\n",
        "# === Evaluasi Boosting (Gradient Boosting) ===\n",
        "mse_boosting = mean_squared_error(y_test, y_pred_boosting)\n",
        "rmse_boosting = np.sqrt(mse_boosting)\n",
        "r2_boosting = r2_score(y_test, y_pred_boosting)\n",
        "\n",
        "print(\"\\n=== Gradient Boosting Regressor ===\")\n",
        "print(f\"MSE  : {mse_boosting:.4f}\")\n",
        "print(f\"RMSE : {rmse_boosting:.4f}\")\n",
        "print(f\"R²   : {r2_boosting:.4f}\")"
      ],
      "metadata": {
        "colab": {
          "base_uri": "https://localhost:8080/"
        },
        "id": "oUgMcYfegeCB",
        "outputId": "e9f36650-3fe8-4b8c-a9fb-df3d7e7027af"
      },
      "execution_count": 9,
      "outputs": [
        {
          "output_type": "stream",
          "name": "stdout",
          "text": [
            "=== Random Forest Regressor (Bagging) ===\n",
            "MSE  : 0.0568\n",
            "RMSE : 0.2384\n",
            "R²   : 0.7302\n",
            "\n",
            "=== Gradient Boosting Regressor ===\n",
            "MSE  : 0.0491\n",
            "RMSE : 0.2217\n",
            "R²   : 0.7666\n"
          ]
        }
      ]
    },
    {
      "cell_type": "markdown",
      "source": [
        "#D. Penjelasan Persamaan Matematika\n",
        "##1) Mean Squared Error (MSE)\n",
        "MSE digunakan untuk MSE mengukur rata-rata kesalahan kuadrat dari prediksi model. Semakin kecil nilainya, semakin akurat model.\n",
        "<br><br>\n",
        "Rumus:\n",
        "\n",
        "$$\n",
        "MSE = \\frac{1}{n}\\sum_{i=1}^{n}(y_i-\\hat{y}_i)^2\n",
        "$$\n",
        "\n",
        "Keterangan:\n",
        "- $y_i$ = nilai aktual (ground truth) dari data ke-$i$\n",
        "- $\\hat{y}_i$ = nilai prediksi oleh model untuk data ke-$i$\n",
        "- $n$ = jumlah total data pada set pengujian\n",
        "<br><br>\n",
        "\n",
        "##2) Root Mean Squared Error (RMSE)\n",
        "RMSE lebih sensitif terhadap kesalahan besar, dan mudah diinterpretasikan karena satuannya sama dengan target aslinya.\n",
        "<br><br>\n",
        "Rumus:\n",
        "\n",
        "$$\n",
        "RMSE = \\sqrt{MSE} = \\sqrt{\\frac{1}{n}\\sum_{i=1}^{n}(y_i-\\hat{y}_i)^2}\n",
        "$$\n",
        "\n",
        "Keterangan:\n",
        "- RMSE merupakan akar dari MSE.\n",
        "- Satuan RMSE sama seperti satuan target/output (berbeda dengan MSE yang satuannya kuadrat).\n",
        "<br><br>\n",
        "\n",
        "##3) R-squared (R$^2$) atau Koefisien Determinasi\n",
        "Menunjukkan seberapa besar proporsi variansi target yang bisa dijelaskan oleh model. Nilai R$^2$ = 1 artinya prediksi sempurna. Kalau R$^2$ = 0 artinya model tidak lebih baik dari rata-rata. Jika negatif maka model sangat buruk.\n",
        "<br><br>\n",
        "\n",
        "Rumus:\n",
        "\n",
        "$$\n",
        "R^2 = 1 - \\frac{\\sum_{i=1}^{n}(y_i-\\hat{y}_i)^2}{\\sum_{i=1}^{n}(y_i-\\overline{y}_i)^2}\n",
        "$$\n",
        "\n",
        "Keterangan:\n",
        "- $\\overline{y}$ = rata-rata dari semua nilai aktual $y$\n",
        "- Pembilang adalah total kesalahan model (jumlah kuadrat residual).\n",
        "- Penyebut adalah total variansi data aktual (jumlah kuadrat total)."
      ],
      "metadata": {
        "id": "Yxs4MA0sg7wv"
      }
    }
  ]
}